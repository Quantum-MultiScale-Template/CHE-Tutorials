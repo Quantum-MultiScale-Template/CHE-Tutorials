{
 "cells": [
  {
   "cell_type": "markdown",
   "metadata": {},
   "source": [
    "# Computational Hydrogen Electrode Tutorial"
   ]
  },
  {
   "cell_type": "markdown",
   "metadata": {},
   "source": [
    "Import useful modules"
   ]
  },
  {
   "cell_type": "code",
   "execution_count": null,
   "metadata": {},
   "outputs": [],
   "source": [
    "import numpy as np\n",
    "import matplotlib.pyplot as plt\n",
    "from ase.io import read\n",
    "from ase import Atoms\n",
    "from ase.build import mx2, molecule\n",
    "from ase.constraints import FixAtoms\n",
    "from ase.visualize import view\n",
    "from ase.calculators.espresso import Espresso, EspressoProfile\n",
    "from ase.optimize import QuasiNewton\n",
    "import time\n",
    "from ase.units import kB"
   ]
  },
  {
   "cell_type": "markdown",
   "metadata": {},
   "source": [
    "Use ASE to generate the material. We will use a 2x2 supercell with 10 Angstrom of vacuum"
   ]
  },
  {
   "cell_type": "code",
   "execution_count": null,
   "metadata": {},
   "outputs": [],
   "source": [
    "MoS2 = mx2(formula='MoS2', kind='2H', a=3.18, thickness=3.19, size=(2, 2, 1), vacuum=10.)"
   ]
  },
  {
   "cell_type": "code",
   "execution_count": null,
   "metadata": {},
   "outputs": [],
   "source": [
    "MoS2.positions"
   ]
  },
  {
   "cell_type": "markdown",
   "metadata": {},
   "source": [
    "Setup of QE command"
   ]
  },
  {
   "cell_type": "code",
   "execution_count": null,
   "metadata": {},
   "outputs": [],
   "source": [
    "runprefix = \"mpirun -np 4 \"\n",
    "qepath = \"/Users/oliviero/PWSCF/espresso-git/bin/\"\n",
    "pseudodir = \"./pseudos\""
   ]
  },
  {
   "cell_type": "code",
   "execution_count": null,
   "metadata": {},
   "outputs": [],
   "source": [
    "# Optionally create profile to override paths in ASE configuration:\n",
    "profile = EspressoProfile(\n",
    "    command=runprefix+qepath+'pw.x', pseudo_dir=pseudodir\n",
    ")"
   ]
  },
  {
   "cell_type": "code",
   "execution_count": null,
   "metadata": {},
   "outputs": [],
   "source": [
    "pseudopotentials = {\n",
    "    \"H\":\"H.pbe-rrkjus_psl.1.0.0.UPF\",\n",
    "    \"O\":\"O.pbe-n-kjpaw_psl.0.1.UPF\",\n",
    "    \"Mo\":\"Mo_ONCV_PBE-1.0.oncvpsp.upf\",\n",
    "    \"S\":\"s_pbe_v1.4.uspp.F.UPF\"\n",
    "}"
   ]
  },
  {
   "cell_type": "markdown",
   "metadata": {},
   "source": [
    "## MoS2 Optimization"
   ]
  },
  {
   "cell_type": "code",
   "execution_count": null,
   "metadata": {},
   "outputs": [],
   "source": [
    "input_data = {\n",
    "    'control': {\n",
    "        'restart_mode': 'from_scratch',\n",
    "        'pseudo_dir': './pseudos',\n",
    "        'calculation': 'scf',\n",
    "        'prefix': 'MoS2'\n",
    "    },\n",
    "    'system': {\n",
    "        'ecutwfc': 60,\n",
    "        'ecutrho': 500,\n",
    "        'occupations':'smearing',\n",
    "        'smearing':'gauss',\n",
    "        'degauss': 0.01\n",
    "    },\n",
    "    'electrons': {\n",
    "        'conv_thr': 1.0e-8, \n",
    "        'mixing_beta': 0.7\n",
    "    },\n",
    "} \n",
    "\n",
    "calc = Espresso(\n",
    "    profile=profile,\n",
    "    pseudopotentials=pseudopotentials,\n",
    "    tstress=True,  # deprecated, put in input_data\n",
    "    tprnfor=True,  # deprecated, put in input_data\n",
    "    input_data=input_data,\n",
    "    kpts=(1,1,1),\n",
    "    koffset=(0,0,0))\n",
    "\n",
    "MoS2.calc = calc"
   ]
  },
  {
   "cell_type": "markdown",
   "metadata": {},
   "source": [
    "We don't want to run this command, we want to do a proper optimization of the cell"
   ]
  },
  {
   "cell_type": "code",
   "execution_count": null,
   "metadata": {},
   "outputs": [],
   "source": [
    "eMoS2 = MoS2.get_potential_energy()"
   ]
  },
  {
   "cell_type": "code",
   "execution_count": null,
   "metadata": {},
   "outputs": [],
   "source": [
    "print(eMoS2)"
   ]
  },
  {
   "cell_type": "markdown",
   "metadata": {},
   "source": [
    "We can read the pre-run vc relax output here"
   ]
  },
  {
   "cell_type": "code",
   "execution_count": null,
   "metadata": {},
   "outputs": [],
   "source": [
    "MoS2 = read('./references/MoS2_vcrelax.out')"
   ]
  },
  {
   "cell_type": "code",
   "execution_count": null,
   "metadata": {},
   "outputs": [],
   "source": [
    "MoS2.center()"
   ]
  },
  {
   "cell_type": "code",
   "execution_count": null,
   "metadata": {},
   "outputs": [],
   "source": [
    "MoS2.positions"
   ]
  },
  {
   "cell_type": "markdown",
   "metadata": {},
   "source": [
    "We can re-compute the energy of the system in ASE now. "
   ]
  },
  {
   "cell_type": "code",
   "execution_count": null,
   "metadata": {},
   "outputs": [],
   "source": [
    "MoS2.calc = calc\n",
    "eMoS2 = MoS2.get_potential_energy()\n",
    "print(eMoS2)"
   ]
  },
  {
   "cell_type": "markdown",
   "metadata": {},
   "source": [
    "## Setup Adsorbate Calculations"
   ]
  },
  {
   "cell_type": "markdown",
   "metadata": {},
   "source": [
    "Let us consider asdorption on a sulfur atom (any of the S atoms work)"
   ]
  },
  {
   "cell_type": "code",
   "execution_count": null,
   "metadata": {},
   "outputs": [],
   "source": [
    "atop_index = 1"
   ]
  },
  {
   "cell_type": "code",
   "execution_count": null,
   "metadata": {},
   "outputs": [],
   "source": [
    "MoS2.positions[atop_index]"
   ]
  },
  {
   "cell_type": "markdown",
   "metadata": {},
   "source": [
    "To speed up the calculations, let impose that all the other atoms of the system are frozen"
   ]
  },
  {
   "cell_type": "code",
   "execution_count": null,
   "metadata": {},
   "outputs": [],
   "source": [
    "fixed = list(range(len(MoS2)))\n",
    "fixed.remove(atop_index)\n",
    "print(fixed)\n",
    "constraint = FixAtoms(indices=fixed)\n",
    "MoS2.set_constraint(constraint)"
   ]
  },
  {
   "cell_type": "markdown",
   "metadata": {},
   "source": [
    "## Adsorbing OH"
   ]
  },
  {
   "cell_type": "code",
   "execution_count": null,
   "metadata": {},
   "outputs": [],
   "source": [
    "# Creating the OH molecule\n",
    "oh_molecule = Atoms('OH', positions=[(0, 0, 0), (0, -0.763, 0.596)])\n",
    "\n",
    "oh_molecule.translate(MoS2.positions[atop_index] + (0, 0, 1.87))\n",
    "\n",
    "oh_molecule.positions"
   ]
  },
  {
   "cell_type": "code",
   "execution_count": null,
   "metadata": {},
   "outputs": [],
   "source": [
    "MoS2OH = MoS2 + oh_molecule\n",
    "MoS2OH.positions"
   ]
  },
  {
   "cell_type": "code",
   "execution_count": null,
   "metadata": {},
   "outputs": [],
   "source": [
    "input_data = {\n",
    "    'control': {\n",
    "        'restart_mode': 'from_scratch',\n",
    "        'pseudo_dir': './pseudos',\n",
    "        'calculation': 'scf',\n",
    "        'prefix': 'MoS2OH'\n",
    "    },\n",
    "    'system': {\n",
    "        'ecutwfc': 60,\n",
    "        'ecutrho': 500,\n",
    "        'occupations':'smearing',\n",
    "        'smearing':'gauss',\n",
    "        'degauss': 0.01\n",
    "    },\n",
    "    'electrons': {\n",
    "        'conv_thr': 1.0e-8, \n",
    "        'mixing_beta': 0.7\n",
    "    },\n",
    "} \n",
    "\n",
    "calc = Espresso(\n",
    "    profile=profile,\n",
    "    pseudopotentials=pseudopotentials,\n",
    "    tstress=True,  # deprecated, put in input_data\n",
    "    tprnfor=True,  # deprecated, put in input_data\n",
    "    input_data=input_data,\n",
    "    kpts=(1,1,1),\n",
    "    koffset=(0,0,0))\n",
    "\n",
    "MoS2OH.calc = calc"
   ]
  },
  {
   "cell_type": "code",
   "execution_count": null,
   "metadata": {},
   "outputs": [],
   "source": [
    "dyn = QuasiNewton(MoS2OH, trajectory='MoS2OH.traj')\n",
    "t = time.time()\n",
    "# dyn.run(fmax=0.05)\n",
    "MoS2OH = read('./references/MoS2OH.traj')\n",
    "print('Calculation time: {} min.'.format((time.time() - t) / 60))"
   ]
  },
  {
   "cell_type": "code",
   "execution_count": null,
   "metadata": {},
   "outputs": [],
   "source": [
    "MoS2OH.positions"
   ]
  },
  {
   "cell_type": "code",
   "execution_count": null,
   "metadata": {},
   "outputs": [],
   "source": [
    "eMoS2OH = MoS2OH.get_potential_energy()\n",
    "print(eMoS2OH)"
   ]
  },
  {
   "cell_type": "code",
   "execution_count": null,
   "metadata": {},
   "outputs": [],
   "source": [
    "print(\"bond S-O: \", MoS2OH.get_distance(1,12))\n",
    "print(\"bond O-H: \", MoS2OH.get_distance(12,13))"
   ]
  },
  {
   "cell_type": "markdown",
   "metadata": {},
   "source": [
    "## Adsorbing O "
   ]
  },
  {
   "cell_type": "code",
   "execution_count": null,
   "metadata": {},
   "outputs": [],
   "source": [
    "# Creating the OH molecule\n",
    "o_molecule = Atoms('O', positions=[(0, 0, 0)])\n",
    "\n",
    "o_molecule.translate(MoS2.positions[atop_index] + (0, 0, 1.872))\n",
    "\n",
    "o_molecule.positions"
   ]
  },
  {
   "cell_type": "code",
   "execution_count": null,
   "metadata": {},
   "outputs": [],
   "source": [
    "MoS2O = MoS2 + o_molecule\n",
    "MoS2O.positions"
   ]
  },
  {
   "cell_type": "code",
   "execution_count": null,
   "metadata": {},
   "outputs": [],
   "source": [
    "input_data = {\n",
    "    'control': {\n",
    "        'restart_mode': 'from_scratch',\n",
    "        'pseudo_dir': './pseudos',\n",
    "        'calculation': 'scf',\n",
    "        'prefix': 'MoS2O'\n",
    "    },\n",
    "    'system': {\n",
    "        'ecutwfc': 60,\n",
    "        'ecutrho': 500,\n",
    "        'occupations':'smearing',\n",
    "        'smearing':'gauss',\n",
    "        'degauss': 0.01\n",
    "    },\n",
    "    'electrons': {\n",
    "        'conv_thr': 1.0e-8, \n",
    "        'mixing_beta': 0.7\n",
    "    },\n",
    "} \n",
    "\n",
    "calc = Espresso(\n",
    "    profile=profile,\n",
    "    pseudopotentials=pseudopotentials,\n",
    "    tstress=True,  # deprecated, put in input_data\n",
    "    tprnfor=True,  # deprecated, put in input_data\n",
    "    input_data=input_data,\n",
    "    kpts=(1,1,1),\n",
    "    koffset=(0,0,0))\n",
    "\n",
    "MoS2O.calc = calc"
   ]
  },
  {
   "cell_type": "code",
   "execution_count": null,
   "metadata": {},
   "outputs": [],
   "source": [
    "dyn = QuasiNewton(MoS2O, trajectory='MoS2O.traj')\n",
    "t = time.time()\n",
    "#dyn.run(fmax=0.05)\n",
    "MoS2O = read('./references/MoS2O.traj')\n",
    "print('Calculation time: {} min.'.format((time.time() - t) / 60))"
   ]
  },
  {
   "cell_type": "code",
   "execution_count": null,
   "metadata": {},
   "outputs": [],
   "source": [
    "eMoS2O = MoS2O.get_potential_energy()\n",
    "print(eMoS2O)"
   ]
  },
  {
   "cell_type": "code",
   "execution_count": null,
   "metadata": {},
   "outputs": [],
   "source": [
    "print(\"bond S-O: \", MoS2O.get_distance(1,12))"
   ]
  },
  {
   "cell_type": "markdown",
   "metadata": {},
   "source": [
    "## Adsorbing OOH"
   ]
  },
  {
   "cell_type": "code",
   "execution_count": null,
   "metadata": {},
   "outputs": [],
   "source": [
    "ooh_molecule = Atoms('OOH', positions=[(0, 0, 0), (0.75, 0.34, 1.10), (0.1, 0.25, 1.85)])\n",
    "\n",
    "ooh_molecule.translate(MoS2.positions[atop_index] + (0, 0, 1.87))\n",
    "\n",
    "ooh_molecule.positions"
   ]
  },
  {
   "cell_type": "code",
   "execution_count": null,
   "metadata": {},
   "outputs": [],
   "source": [
    "MoS2OOH = MoS2 + ooh_molecule\n",
    "MoS2OOH.positions"
   ]
  },
  {
   "cell_type": "code",
   "execution_count": null,
   "metadata": {},
   "outputs": [],
   "source": [
    "input_data = {\n",
    "    'control': {\n",
    "        'restart_mode': 'from_scratch',\n",
    "        'pseudo_dir': './pseudos',\n",
    "        'calculation': 'scf',\n",
    "        'prefix': 'MoS2O'\n",
    "    },\n",
    "    'system': {\n",
    "        'ecutwfc': 60,\n",
    "        'ecutrho': 500,\n",
    "        'occupations':'smearing',\n",
    "        'smearing':'gauss',\n",
    "        'degauss': 0.01\n",
    "    },\n",
    "    'electrons': {\n",
    "        'conv_thr': 1.0e-8, \n",
    "        'mixing_beta': 0.7\n",
    "    },\n",
    "} \n",
    "\n",
    "calc = Espresso(\n",
    "    profile=profile,\n",
    "    pseudopotentials=pseudopotentials,\n",
    "    tstress=True,  # deprecated, put in input_data\n",
    "    tprnfor=True,  # deprecated, put in input_data\n",
    "    input_data=input_data,\n",
    "    kpts=(1,1,1),\n",
    "    koffset=(0,0,0))\n",
    "\n",
    "MoS2OOH.calc = calc"
   ]
  },
  {
   "cell_type": "code",
   "execution_count": null,
   "metadata": {},
   "outputs": [],
   "source": [
    "dyn = QuasiNewton(MoS2OOH, trajectory='MoS2OOH.traj')\n",
    "t = time.time()\n",
    "#dyn.run(fmax=0.05)\n",
    "MoS2OOH = read('./references/MoS2OOH.traj')\n",
    "print('Calculation time: {} min.'.format((time.time() - t) / 60))"
   ]
  },
  {
   "cell_type": "code",
   "execution_count": null,
   "metadata": {},
   "outputs": [],
   "source": [
    "eMoS2OOH = MoS2OOH.get_total_energy()\n",
    "print(eMoS2OOH)"
   ]
  },
  {
   "cell_type": "markdown",
   "metadata": {},
   "source": [
    "## Isolated Molecules (H2 and H2O)"
   ]
  },
  {
   "cell_type": "code",
   "execution_count": null,
   "metadata": {},
   "outputs": [],
   "source": [
    "H2_molecule = molecule(\"H2\")\n",
    "H2_molecule.set_cell(MoS2.get_cell())\n",
    "H2_molecule.calc = calc\n",
    "dynH2 = QuasiNewton(H2_molecule, trajectory='H2.traj')\n",
    "t = time.time()\n",
    "#dynH2.run(fmax=0.05)\n",
    "H2 = read('./references/H2.traj')\n",
    "print('Calculation time: {} min.'.format((time.time() - t) / 60))\n",
    "eH2 = H2_molecule.get_potential_energy()\n",
    "print(\"H2 energy: \", eH2, \" eV\")\n",
    "print(\"H-H bond lenght: \", H2_molecule.get_distance(0,1))"
   ]
  },
  {
   "cell_type": "code",
   "execution_count": null,
   "metadata": {},
   "outputs": [],
   "source": [
    "H2O_molecule = molecule(\"H2O\")\n",
    "H2O_molecule.set_cell(MoS2.get_cell())\n",
    "H2O_molecule.calc = calc\n",
    "dynH2O = QuasiNewton(H2O_molecule, trajectory='H2O.traj')\n",
    "t = time.time()\n",
    "#dynH2O.run(fmax=0.05)\n",
    "H2O = read('./references/H2O.traj')\n",
    "print('Calculation time: {} min.'.format((time.time() - t) / 60))\n",
    "eH2O = H2O_molecule.get_potential_energy()\n",
    "print(\"H2O energy: \", eH2O, \" eV\")\n",
    "print(\"O-H bond lenght: \", H2O_molecule.get_distance(0,1))"
   ]
  },
  {
   "cell_type": "code",
   "execution_count": null,
   "metadata": {},
   "outputs": [],
   "source": [
    "print(eMoS2OH,eH2O,eMoS2)"
   ]
  },
  {
   "cell_type": "markdown",
   "metadata": {},
   "source": [
    "## Some Thermodynamics"
   ]
  },
  {
   "cell_type": "markdown",
   "metadata": {},
   "source": [
    "These come from experiments (are we really doing first-principles?)"
   ]
  },
  {
   "cell_type": "code",
   "execution_count": null,
   "metadata": {},
   "outputs": [],
   "source": [
    "DGtot = 4.92\n",
    "zpeH2O = 0.57\n",
    "zpeH2 = 0.35"
   ]
  },
  {
   "cell_type": "code",
   "execution_count": null,
   "metadata": {},
   "outputs": [],
   "source": [
    "tdsH2O = 0.67\n",
    "tdsH2 = 0.403\n",
    "kBT = kB * 298"
   ]
  },
  {
   "cell_type": "markdown",
   "metadata": {},
   "source": [
    "These can supposedly come from vibrational calculations"
   ]
  },
  {
   "cell_type": "code",
   "execution_count": null,
   "metadata": {},
   "outputs": [],
   "source": [
    "zpeMoS2O = 0.06\n",
    "zpeMoS2OH = 0.37\n",
    "zpeMoS2OOH = 0.44\n",
    "zpeMoS2 = 0."
   ]
  },
  {
   "cell_type": "markdown",
   "metadata": {},
   "source": [
    "Compute free energy differences of individual steps"
   ]
  },
  {
   "cell_type": "code",
   "execution_count": null,
   "metadata": {},
   "outputs": [],
   "source": [
    "DE1_SHE = eMoS2OH - eH2O - eMoS2 + 0.5*eH2\n",
    "DZPE1 = zpeMoS2OH - zpeH2O - zpeMoS2 + 0.5*zpeH2\n",
    "TDS1 = - tdsH2O + 0.5*tdsH2\n",
    "DG1_SHE = DE1_SHE + DZPE1 + TDS1\n",
    "print(DG1_SHE)"
   ]
  },
  {
   "cell_type": "code",
   "execution_count": null,
   "metadata": {},
   "outputs": [],
   "source": [
    "DE2_SHE = eMoS2O - eMoS2OH + 0.5*eH2\n",
    "DZPE2 = zpeMoS2O - zpeMoS2OH + 0.5*zpeH2\n",
    "TDS2 = 0.5*tdsH2\n",
    "DG2_SHE = DE2_SHE + DZPE2 + TDS2\n",
    "print(DG2_SHE)"
   ]
  },
  {
   "cell_type": "code",
   "execution_count": null,
   "metadata": {},
   "outputs": [],
   "source": [
    "DE3_SHE = eMoS2OOH - eMoS2O - eH2O + 0.5*eH2\n",
    "DZPE3 = zpeMoS2OOH - zpeMoS2O - zpeH2O + 0.5*zpeH2\n",
    "TDS3 = -tdsH2O + 0.5*tdsH2\n",
    "DG3_SHE = DE3_SHE + DZPE3 + TDS3\n",
    "print(DG3_SHE)"
   ]
  },
  {
   "cell_type": "code",
   "execution_count": null,
   "metadata": {},
   "outputs": [],
   "source": [
    "DG4_SHE = DGtot - DG1_SHE - DG2_SHE - DG3_SHE\n",
    "print(DG4_SHE)"
   ]
  },
  {
   "cell_type": "markdown",
   "metadata": {},
   "source": [
    "What happens at 0 applied potential wrt SHE?"
   ]
  },
  {
   "cell_type": "code",
   "execution_count": null,
   "metadata": {},
   "outputs": [],
   "source": [
    "steps = np.array([-0.5,0.5, 1.5, 2.5, 3.5, 4.5])\n",
    "dgs_she = np.array([0,0, DG1_SHE, DG2_SHE, DG3_SHE, DG4_SHE])\n",
    "plt.step(steps,np.cumsum(dgs_she))\n",
    "plt.xlabel('Reaction Step',fontsize=20)\n",
    "plt.ylabel('$\\Delta$G (eV)',fontsize=20)"
   ]
  },
  {
   "cell_type": "markdown",
   "metadata": {},
   "source": [
    "What happens at the official redox potential for oxygen evolution (U=1.23V vs SHE)?"
   ]
  },
  {
   "cell_type": "code",
   "execution_count": null,
   "metadata": {},
   "outputs": [],
   "source": [
    "pH = 0.\n",
    "U = 4.92/4\n",
    "DG1_U = DG1_SHE - kBT*np.log(10)*pH - U\n",
    "DG2_U = DG2_SHE - kBT*np.log(10)*pH - U\n",
    "DG3_U = DG3_SHE - kBT*np.log(10)*pH - U\n",
    "DG4_U = DG4_SHE - kBT*np.log(10)*pH - U\n"
   ]
  },
  {
   "cell_type": "code",
   "execution_count": null,
   "metadata": {},
   "outputs": [],
   "source": [
    "steps = np.array([-0.5,0.5, 1.5, 2.5, 3.5, 4.5])\n",
    "dgs_she = np.array([0,0, DG1_SHE, DG2_SHE, DG3_SHE, DG4_SHE])\n",
    "dgs_U = np.array([0,0, DG1_U, DG2_U, DG3_U, DG4_U])\n",
    "plt.step(steps,np.cumsum(dgs_she))\n",
    "plt.step(steps,np.cumsum(dgs_U))\n",
    "plt.xlabel('Reaction Step',fontsize=20)\n",
    "plt.ylabel('$\\Delta$G (eV)',fontsize=20)"
   ]
  },
  {
   "cell_type": "markdown",
   "metadata": {},
   "source": [
    "What is the overpotential?"
   ]
  },
  {
   "cell_type": "code",
   "execution_count": null,
   "metadata": {},
   "outputs": [],
   "source": [
    "eta = np.max(dgs_she[2:] - 4.92/4)"
   ]
  },
  {
   "cell_type": "code",
   "execution_count": null,
   "metadata": {},
   "outputs": [],
   "source": [
    "pH = 0.\n",
    "U = 4.92/4 + eta\n",
    "DG1_U = DG1_SHE - kBT*np.log(10)*pH - U\n",
    "DG2_U = DG2_SHE - kBT*np.log(10)*pH - U\n",
    "DG3_U = DG3_SHE - kBT*np.log(10)*pH - U\n",
    "DG4_U = DG4_SHE - kBT*np.log(10)*pH - U"
   ]
  },
  {
   "cell_type": "code",
   "execution_count": null,
   "metadata": {},
   "outputs": [],
   "source": [
    "steps = np.array([-0.5,0.5, 1.5, 2.5, 3.5, 4.5])\n",
    "dgs_she = np.array([0,0, DG1_SHE, DG2_SHE, DG3_SHE, DG4_SHE])\n",
    "dgs_Ueta = np.array([0,0, DG1_U, DG2_U, DG3_U, DG4_U])\n",
    "plt.step(steps,np.cumsum(dgs_she))\n",
    "plt.step(steps,np.cumsum(dgs_U))\n",
    "plt.xlabel('Reaction Step',fontsize=20)\n",
    "plt.ylabel('$\\Delta$G (eV)',fontsize=20)"
   ]
  }
 ],
 "metadata": {
  "kernelspec": {
   "display_name": "Python 3",
   "language": "python",
   "name": "python3"
  },
  "language_info": {
   "codemirror_mode": {
    "name": "ipython",
    "version": 3
   },
   "file_extension": ".py",
   "mimetype": "text/x-python",
   "name": "python",
   "nbconvert_exporter": "python",
   "pygments_lexer": "ipython3"
  }
 },
 "nbformat": 4,
 "nbformat_minor": 2
}
