{
 "cells": [
  {
   "cell_type": "code",
   "execution_count": 23,
   "metadata": {},
   "outputs": [],
   "source": [
    "import os\n",
    "import numpy as np\n",
    "import matplotlib.pyplot as plt\n",
    "#\n",
    "# ASE is a very convenient module for setting up simulations on molecules and \n",
    "# bulk materials\n",
    "#\n",
    "from ase.io import read, write\n",
    "from ase import Atoms\n",
    "from ase.build import mx2, molecule\n",
    "from ase.constraints import FixAtoms\n",
    "from ase.visualize import view\n",
    "from ase.calculators.espresso import Espresso, EspressoProfile\n",
    "import time"
   ]
  },
  {
   "cell_type": "code",
   "execution_count": 42,
   "metadata": {},
   "outputs": [],
   "source": [
    "MoS2 = mx2(formula='MoS2', kind='2H', a=3.18, thickness=3.19, size=(2, 2, 1), vacuum=10.)"
   ]
  },
  {
   "cell_type": "code",
   "execution_count": 43,
   "metadata": {},
   "outputs": [
    {
     "data": {
      "text/plain": [
       "array([[ 0.        ,  0.        , 11.595     ],\n",
       "       [ 1.59      ,  0.91798693, 13.19      ],\n",
       "       [ 1.59      ,  0.91798693, 10.        ],\n",
       "       [-1.59      ,  2.75396078, 11.595     ],\n",
       "       [ 0.        ,  3.67194771, 13.19      ],\n",
       "       [ 0.        ,  3.67194771, 10.        ],\n",
       "       [ 3.18      ,  0.        , 11.595     ],\n",
       "       [ 4.77      ,  0.91798693, 13.19      ],\n",
       "       [ 4.77      ,  0.91798693, 10.        ],\n",
       "       [ 1.59      ,  2.75396078, 11.595     ],\n",
       "       [ 3.18      ,  3.67194771, 13.19      ],\n",
       "       [ 3.18      ,  3.67194771, 10.        ]])"
      ]
     },
     "execution_count": 43,
     "metadata": {},
     "output_type": "execute_result"
    }
   ],
   "source": [
    "MoS2.positions"
   ]
  },
  {
   "cell_type": "code",
   "execution_count": 44,
   "metadata": {},
   "outputs": [],
   "source": [
    "# Optionally create profile to override paths in ASE configuration:\n",
    "profile = EspressoProfile(\n",
    "    command='mpirun -np 4 /Users/oliviero/PWSCF/espresso-git/bin/pw.x', pseudo_dir='./pseudos/'\n",
    ")"
   ]
  },
  {
   "cell_type": "code",
   "execution_count": 45,
   "metadata": {},
   "outputs": [],
   "source": [
    "pseudopotentials = {\n",
    "    \"H\":\"H.pbe-rrkjus_psl.1.0.0.UPF\",\n",
    "    \"O\":\"O.pbe-n-kjpaw_psl.0.1.UPF\",\n",
    "    \"Mo\":\"Mo_ONCV_PBE-1.0.oncvpsp.upf\",\n",
    "    \"S\":\"s_pbe_v1.4.uspp.F.UPF\"\n",
    "}"
   ]
  },
  {
   "cell_type": "code",
   "execution_count": 118,
   "metadata": {},
   "outputs": [],
   "source": [
    "input_data = {\n",
    "    'control': {\n",
    "        'restart_mode': 'from_scratch',\n",
    "        'pseudo_dir': './pseudos',\n",
    "        'calculation': 'scf',\n",
    "        'prefix': 'MoS2'\n",
    "    },\n",
    "    'system': {\n",
    "        'ecutwfc': 60,\n",
    "        'ecutrho': 500,\n",
    "        'occupations':'smearing',\n",
    "        'smearing':'gauss',\n",
    "        'degauss': 0.01\n",
    "    },\n",
    "    'electrons': {\n",
    "        'diagonalization':'david',\n",
    "        'conv_thr': 1.0e-8, \n",
    "        'mixing_beta': 0.7\n",
    "    },\n",
    "    'ions':{\n",
    "        },\n",
    "    'cell': {\n",
    "        'cell_dofree' : 'ibrav+2Dxy'\n",
    "    }\n",
    "} \n",
    "\n",
    "calc = Espresso(\n",
    "    profile=profile,\n",
    "    pseudopotentials=pseudopotentials,\n",
    "    tstress=True,  # deprecated, put in input_data\n",
    "    tprnfor=True,  # deprecated, put in input_data\n",
    "    input_data=input_data,\n",
    "    kpts=(1,1,1),\n",
    "    koffset=(0,0,0))\n",
    "\n",
    "MoS2.calc = calc"
   ]
  },
  {
   "cell_type": "code",
   "execution_count": 105,
   "metadata": {},
   "outputs": [
    {
     "ename": "CalledProcessError",
     "evalue": "Command '['mpirun', '-np', '4', '/Users/oliviero/PWSCF/espresso-git/bin/pw.x', '-in', 'espresso.pwi']' returned non-zero exit status 1.",
     "output_type": "error",
     "traceback": [
      "\u001b[0;31m---------------------------------------------------------------------------\u001b[0m",
      "\u001b[0;31mCalledProcessError\u001b[0m                        Traceback (most recent call last)",
      "\u001b[1;32m/Users/oliviero/Dropbox/Workshops/Q-MS_School_2024/Tutorials/CHE-Tutorials/CHE.ipynb Cell 7\u001b[0m line \u001b[0;36m1\n\u001b[0;32m----> <a href='vscode-notebook-cell:/Users/oliviero/Dropbox/Workshops/Q-MS_School_2024/Tutorials/CHE-Tutorials/CHE.ipynb#X25sZmlsZQ%3D%3D?line=0'>1</a>\u001b[0m eMoS2 \u001b[39m=\u001b[39m MoS2\u001b[39m.\u001b[39;49mget_potential_energy()\n",
      "File \u001b[0;32m~/Library/Python/3.9/lib/python/site-packages/ase/atoms.py:755\u001b[0m, in \u001b[0;36mAtoms.get_potential_energy\u001b[0;34m(self, force_consistent, apply_constraint)\u001b[0m\n\u001b[1;32m    752\u001b[0m     energy \u001b[39m=\u001b[39m \u001b[39mself\u001b[39m\u001b[39m.\u001b[39m_calc\u001b[39m.\u001b[39mget_potential_energy(\n\u001b[1;32m    753\u001b[0m         \u001b[39mself\u001b[39m, force_consistent\u001b[39m=\u001b[39mforce_consistent)\n\u001b[1;32m    754\u001b[0m \u001b[39melse\u001b[39;00m:\n\u001b[0;32m--> 755\u001b[0m     energy \u001b[39m=\u001b[39m \u001b[39mself\u001b[39;49m\u001b[39m.\u001b[39;49m_calc\u001b[39m.\u001b[39;49mget_potential_energy(\u001b[39mself\u001b[39;49m)\n\u001b[1;32m    756\u001b[0m \u001b[39mif\u001b[39;00m apply_constraint:\n\u001b[1;32m    757\u001b[0m     \u001b[39mfor\u001b[39;00m constraint \u001b[39min\u001b[39;00m \u001b[39mself\u001b[39m\u001b[39m.\u001b[39mconstraints:\n",
      "File \u001b[0;32m~/Library/Python/3.9/lib/python/site-packages/ase/calculators/abc.py:24\u001b[0m, in \u001b[0;36mGetPropertiesMixin.get_potential_energy\u001b[0;34m(self, atoms, force_consistent)\u001b[0m\n\u001b[1;32m     22\u001b[0m \u001b[39melse\u001b[39;00m:\n\u001b[1;32m     23\u001b[0m     name \u001b[39m=\u001b[39m \u001b[39m'\u001b[39m\u001b[39menergy\u001b[39m\u001b[39m'\u001b[39m\n\u001b[0;32m---> 24\u001b[0m \u001b[39mreturn\u001b[39;00m \u001b[39mself\u001b[39;49m\u001b[39m.\u001b[39;49mget_property(name, atoms)\n",
      "File \u001b[0;32m~/Library/Python/3.9/lib/python/site-packages/ase/calculators/calculator.py:538\u001b[0m, in \u001b[0;36mBaseCalculator.get_property\u001b[0;34m(self, name, atoms, allow_calculation)\u001b[0m\n\u001b[1;32m    535\u001b[0m     \u001b[39mif\u001b[39;00m \u001b[39mself\u001b[39m\u001b[39m.\u001b[39muse_cache:\n\u001b[1;32m    536\u001b[0m         \u001b[39mself\u001b[39m\u001b[39m.\u001b[39matoms \u001b[39m=\u001b[39m atoms\u001b[39m.\u001b[39mcopy()\n\u001b[0;32m--> 538\u001b[0m     \u001b[39mself\u001b[39;49m\u001b[39m.\u001b[39;49mcalculate(atoms, [name], system_changes)\n\u001b[1;32m    540\u001b[0m \u001b[39mif\u001b[39;00m name \u001b[39mnot\u001b[39;00m \u001b[39min\u001b[39;00m \u001b[39mself\u001b[39m\u001b[39m.\u001b[39mresults:\n\u001b[1;32m    541\u001b[0m     \u001b[39m# For some reason the calculator was not able to do what we want,\u001b[39;00m\n\u001b[1;32m    542\u001b[0m     \u001b[39m# and that is OK.\u001b[39;00m\n\u001b[1;32m    543\u001b[0m     \u001b[39mraise\u001b[39;00m PropertyNotImplementedError(\n\u001b[1;32m    544\u001b[0m         \u001b[39m'\u001b[39m\u001b[39m{}\u001b[39;00m\u001b[39m not present in this \u001b[39m\u001b[39m'\u001b[39m \u001b[39m'\u001b[39m\u001b[39mcalculation\u001b[39m\u001b[39m'\u001b[39m\u001b[39m.\u001b[39mformat(name)\n\u001b[1;32m    545\u001b[0m     )\n",
      "File \u001b[0;32m~/Library/Python/3.9/lib/python/site-packages/ase/calculators/genericfileio.py:322\u001b[0m, in \u001b[0;36mGenericFileIOCalculator.calculate\u001b[0;34m(self, atoms, properties, system_changes)\u001b[0m\n\u001b[1;32m    320\u001b[0m \u001b[39mdef\u001b[39;00m \u001b[39mcalculate\u001b[39m(\u001b[39mself\u001b[39m, atoms, properties, system_changes):\n\u001b[1;32m    321\u001b[0m     \u001b[39mself\u001b[39m\u001b[39m.\u001b[39mwrite_inputfiles(atoms, properties)\n\u001b[0;32m--> 322\u001b[0m     \u001b[39mself\u001b[39;49m\u001b[39m.\u001b[39;49mtemplate\u001b[39m.\u001b[39;49mexecute(\u001b[39mself\u001b[39;49m\u001b[39m.\u001b[39;49mdirectory, \u001b[39mself\u001b[39;49m\u001b[39m.\u001b[39;49mprofile)\n\u001b[1;32m    323\u001b[0m     \u001b[39mself\u001b[39m\u001b[39m.\u001b[39mresults \u001b[39m=\u001b[39m \u001b[39mself\u001b[39m\u001b[39m.\u001b[39mtemplate\u001b[39m.\u001b[39mread_results(\u001b[39mself\u001b[39m\u001b[39m.\u001b[39mdirectory)\n",
      "File \u001b[0;32m~/Library/Python/3.9/lib/python/site-packages/ase/calculators/espresso.py:84\u001b[0m, in \u001b[0;36mEspressoTemplate.execute\u001b[0;34m(self, directory, profile)\u001b[0m\n\u001b[1;32m     83\u001b[0m \u001b[39mdef\u001b[39;00m \u001b[39mexecute\u001b[39m(\u001b[39mself\u001b[39m, directory, profile):\n\u001b[0;32m---> 84\u001b[0m     profile\u001b[39m.\u001b[39;49mrun(directory, \u001b[39mself\u001b[39;49m\u001b[39m.\u001b[39;49minputname, \u001b[39mself\u001b[39;49m\u001b[39m.\u001b[39;49moutputname,\n\u001b[1;32m     85\u001b[0m                 errorfile\u001b[39m=\u001b[39;49m\u001b[39mself\u001b[39;49m\u001b[39m.\u001b[39;49merrorname)\n",
      "File \u001b[0;32m~/Library/Python/3.9/lib/python/site-packages/ase/calculators/genericfileio.py:93\u001b[0m, in \u001b[0;36mBaseProfile.run\u001b[0;34m(self, directory, inputfile, outputfile, errorfile, append)\u001b[0m\n\u001b[1;32m     91\u001b[0m \u001b[39melse\u001b[39;00m:\n\u001b[1;32m     92\u001b[0m     fd_err \u001b[39m=\u001b[39m \u001b[39mNone\u001b[39;00m\n\u001b[0;32m---> 93\u001b[0m check_call(\n\u001b[1;32m     94\u001b[0m     argv_command,\n\u001b[1;32m     95\u001b[0m     cwd\u001b[39m=\u001b[39;49mdirectory,\n\u001b[1;32m     96\u001b[0m     stdout\u001b[39m=\u001b[39;49mfd_out,\n\u001b[1;32m     97\u001b[0m     stderr\u001b[39m=\u001b[39;49mfd_err,\n\u001b[1;32m     98\u001b[0m     env\u001b[39m=\u001b[39;49mos\u001b[39m.\u001b[39;49menviron,\n\u001b[1;32m     99\u001b[0m )\n",
      "File \u001b[0;32m/Applications/Xcode.app/Contents/Developer/Library/Frameworks/Python3.framework/Versions/3.9/lib/python3.9/subprocess.py:373\u001b[0m, in \u001b[0;36mcheck_call\u001b[0;34m(*popenargs, **kwargs)\u001b[0m\n\u001b[1;32m    371\u001b[0m     \u001b[39mif\u001b[39;00m cmd \u001b[39mis\u001b[39;00m \u001b[39mNone\u001b[39;00m:\n\u001b[1;32m    372\u001b[0m         cmd \u001b[39m=\u001b[39m popenargs[\u001b[39m0\u001b[39m]\n\u001b[0;32m--> 373\u001b[0m     \u001b[39mraise\u001b[39;00m CalledProcessError(retcode, cmd)\n\u001b[1;32m    374\u001b[0m \u001b[39mreturn\u001b[39;00m \u001b[39m0\u001b[39m\n",
      "\u001b[0;31mCalledProcessError\u001b[0m: Command '['mpirun', '-np', '4', '/Users/oliviero/PWSCF/espresso-git/bin/pw.x', '-in', 'espresso.pwi']' returned non-zero exit status 1."
     ]
    }
   ],
   "source": [
    "eMoS2 = MoS2.get_potential_energy()"
   ]
  },
  {
   "cell_type": "code",
   "execution_count": 106,
   "metadata": {},
   "outputs": [],
   "source": [
    "MoS2 = read('MoS2_vcrelax.out')"
   ]
  },
  {
   "cell_type": "code",
   "execution_count": 107,
   "metadata": {},
   "outputs": [],
   "source": [
    "MoS2.center()"
   ]
  },
  {
   "cell_type": "code",
   "execution_count": 108,
   "metadata": {},
   "outputs": [
    {
     "data": {
      "text/plain": [
       "array([[ 8.00261267e-04,  9.14688188e-01,  6.35012543e+00],\n",
       "       [ 1.58511123e+00,  1.82998009e+00,  7.94349870e+00],\n",
       "       [ 1.58511128e+00,  1.82997906e+00,  4.75675372e+00],\n",
       "       [-1.58573460e+00,  3.66043743e+00,  6.35012558e+00],\n",
       "       [-2.00093063e-03,  4.57641766e+00,  7.94411429e+00],\n",
       "       [-2.00114573e-03,  4.57641758e+00,  4.75613867e+00],\n",
       "       [ 3.17064002e+00,  9.15897827e-01,  6.35012497e+00],\n",
       "       [ 4.75648140e+00,  1.82987738e+00,  7.94453638e+00],\n",
       "       [ 4.75648244e+00,  1.82987791e+00,  4.75571733e+00],\n",
       "       [ 1.58410661e+00,  3.66164705e+00,  6.35012469e+00],\n",
       "       [ 3.16937385e+00,  4.57630852e+00,  7.94515188e+00],\n",
       "       [ 3.16937409e+00,  4.57630853e+00,  4.75510112e+00]])"
      ]
     },
     "execution_count": 108,
     "metadata": {},
     "output_type": "execute_result"
    }
   ],
   "source": [
    "MoS2.positions"
   ]
  },
  {
   "cell_type": "code",
   "execution_count": 109,
   "metadata": {},
   "outputs": [
    {
     "name": "stdout",
     "output_type": "stream",
     "text": [
      "[0, 2, 3, 4, 5, 6, 7, 8, 9, 10, 11]\n"
     ]
    }
   ],
   "source": [
    "atop_index = 1\n",
    "fixed = list(range(len(MoS2)))\n",
    "fixed.remove(atop_index)\n",
    "print(fixed)"
   ]
  },
  {
   "cell_type": "code",
   "execution_count": 110,
   "metadata": {},
   "outputs": [],
   "source": [
    "constraint = FixAtoms(indices=fixed)\n",
    "MoS2.set_constraint(constraint)"
   ]
  },
  {
   "cell_type": "code",
   "execution_count": 111,
   "metadata": {},
   "outputs": [],
   "source": [
    "# Creating the OH molecule\n",
    "oh_molecule = Atoms('OH', positions=[(0, 0, 0), (0, -0.763, 0.596)])\n",
    "\n",
    "oh_molecule.translate(MoS2.positions[atop_index] + (0, 0, 1.5))\n",
    "\n",
    "MoS2OH = MoS2 + oh_molecule"
   ]
  },
  {
   "cell_type": "code",
   "execution_count": 112,
   "metadata": {},
   "outputs": [
    {
     "data": {
      "text/plain": [
       "array([1.58511123, 1.82998009, 7.9434987 ])"
      ]
     },
     "execution_count": 112,
     "metadata": {},
     "output_type": "execute_result"
    }
   ],
   "source": [
    "MoS2.positions[atop_index]"
   ]
  },
  {
   "cell_type": "code",
   "execution_count": 113,
   "metadata": {},
   "outputs": [
    {
     "data": {
      "text/plain": [
       "array([[ 1.58511123,  1.82998009,  9.4434987 ],\n",
       "       [ 1.58511123,  1.06698009, 10.0394987 ]])"
      ]
     },
     "execution_count": 113,
     "metadata": {},
     "output_type": "execute_result"
    }
   ],
   "source": [
    "oh_molecule.positions"
   ]
  },
  {
   "cell_type": "code",
   "execution_count": 114,
   "metadata": {},
   "outputs": [
    {
     "data": {
      "text/plain": [
       "array([[ 8.00261267e-04,  9.14688188e-01,  6.35012543e+00],\n",
       "       [ 1.58511123e+00,  1.82998009e+00,  7.94349870e+00],\n",
       "       [ 1.58511128e+00,  1.82997906e+00,  4.75675372e+00],\n",
       "       [-1.58573460e+00,  3.66043743e+00,  6.35012558e+00],\n",
       "       [-2.00093063e-03,  4.57641766e+00,  7.94411429e+00],\n",
       "       [-2.00114573e-03,  4.57641758e+00,  4.75613867e+00],\n",
       "       [ 3.17064002e+00,  9.15897827e-01,  6.35012497e+00],\n",
       "       [ 4.75648140e+00,  1.82987738e+00,  7.94453638e+00],\n",
       "       [ 4.75648244e+00,  1.82987791e+00,  4.75571733e+00],\n",
       "       [ 1.58410661e+00,  3.66164705e+00,  6.35012469e+00],\n",
       "       [ 3.16937385e+00,  4.57630852e+00,  7.94515188e+00],\n",
       "       [ 3.16937409e+00,  4.57630853e+00,  4.75510112e+00],\n",
       "       [ 1.58511123e+00,  1.82998009e+00,  9.44349870e+00],\n",
       "       [ 1.58511123e+00,  1.06698009e+00,  1.00394987e+01]])"
      ]
     },
     "execution_count": 114,
     "metadata": {},
     "output_type": "execute_result"
    }
   ],
   "source": [
    "MoS2OH.positions"
   ]
  },
  {
   "cell_type": "code",
   "execution_count": 119,
   "metadata": {},
   "outputs": [],
   "source": [
    "MoS2OH.calc = calc"
   ]
  },
  {
   "cell_type": "code",
   "execution_count": 120,
   "metadata": {},
   "outputs": [],
   "source": [
    "from ase.optimize import QuasiNewton"
   ]
  },
  {
   "cell_type": "code",
   "execution_count": 121,
   "metadata": {},
   "outputs": [
    {
     "ename": "CalledProcessError",
     "evalue": "Command '['mpirun', '-np', '4', '/Users/oliviero/PWSCF/espresso-git/bin/pw.x', '-in', 'espresso.pwi']' returned non-zero exit status 1.",
     "output_type": "error",
     "traceback": [
      "\u001b[0;31m---------------------------------------------------------------------------\u001b[0m",
      "\u001b[0;31mCalledProcessError\u001b[0m                        Traceback (most recent call last)",
      "\u001b[1;32m/Users/oliviero/Dropbox/Workshops/Q-MS_School_2024/Tutorials/CHE-Tutorials/CHE.ipynb Cell 19\u001b[0m line \u001b[0;36m3\n\u001b[1;32m      <a href='vscode-notebook-cell:/Users/oliviero/Dropbox/Workshops/Q-MS_School_2024/Tutorials/CHE-Tutorials/CHE.ipynb#W6sZmlsZQ%3D%3D?line=0'>1</a>\u001b[0m dyn \u001b[39m=\u001b[39m QuasiNewton(MoS2OH, trajectory\u001b[39m=\u001b[39m\u001b[39m'\u001b[39m\u001b[39mMoS2OH.traj\u001b[39m\u001b[39m'\u001b[39m)\n\u001b[1;32m      <a href='vscode-notebook-cell:/Users/oliviero/Dropbox/Workshops/Q-MS_School_2024/Tutorials/CHE-Tutorials/CHE.ipynb#W6sZmlsZQ%3D%3D?line=1'>2</a>\u001b[0m t \u001b[39m=\u001b[39m time\u001b[39m.\u001b[39mtime()\n\u001b[0;32m----> <a href='vscode-notebook-cell:/Users/oliviero/Dropbox/Workshops/Q-MS_School_2024/Tutorials/CHE-Tutorials/CHE.ipynb#W6sZmlsZQ%3D%3D?line=2'>3</a>\u001b[0m dyn\u001b[39m.\u001b[39;49mrun(fmax\u001b[39m=\u001b[39;49m\u001b[39m0.05\u001b[39;49m)\n\u001b[1;32m      <a href='vscode-notebook-cell:/Users/oliviero/Dropbox/Workshops/Q-MS_School_2024/Tutorials/CHE-Tutorials/CHE.ipynb#W6sZmlsZQ%3D%3D?line=3'>4</a>\u001b[0m \u001b[39mprint\u001b[39m(\u001b[39m'\u001b[39m\u001b[39mCalculation time: \u001b[39m\u001b[39m{}\u001b[39;00m\u001b[39m min.\u001b[39m\u001b[39m'\u001b[39m\u001b[39m.\u001b[39mformat((time\u001b[39m.\u001b[39mtime() \u001b[39m-\u001b[39m t) \u001b[39m/\u001b[39m \u001b[39m60\u001b[39m))\n",
      "File \u001b[0;32m~/Library/Python/3.9/lib/python/site-packages/ase/optimize/optimize.py:430\u001b[0m, in \u001b[0;36mOptimizer.run\u001b[0;34m(self, fmax, steps)\u001b[0m\n\u001b[1;32m    415\u001b[0m \u001b[39m\"\"\"Run optimizer.\u001b[39;00m\n\u001b[1;32m    416\u001b[0m \n\u001b[1;32m    417\u001b[0m \u001b[39mParameters\u001b[39;00m\n\u001b[0;32m   (...)\u001b[0m\n\u001b[1;32m    427\u001b[0m \u001b[39m    True if the forces on atoms are converged.\u001b[39;00m\n\u001b[1;32m    428\u001b[0m \u001b[39m\"\"\"\u001b[39;00m\n\u001b[1;32m    429\u001b[0m \u001b[39mself\u001b[39m\u001b[39m.\u001b[39mfmax \u001b[39m=\u001b[39m fmax\n\u001b[0;32m--> 430\u001b[0m \u001b[39mreturn\u001b[39;00m Dynamics\u001b[39m.\u001b[39;49mrun(\u001b[39mself\u001b[39;49m, steps\u001b[39m=\u001b[39;49msteps)\n",
      "File \u001b[0;32m~/Library/Python/3.9/lib/python/site-packages/ase/optimize/optimize.py:275\u001b[0m, in \u001b[0;36mDynamics.run\u001b[0;34m(self, steps)\u001b[0m\n\u001b[1;32m    257\u001b[0m \u001b[39mdef\u001b[39;00m \u001b[39mrun\u001b[39m(\u001b[39mself\u001b[39m, steps\u001b[39m=\u001b[39mDEFAULT_MAX_STEPS):\n\u001b[1;32m    258\u001b[0m     \u001b[39m\"\"\"Run dynamics algorithm.\u001b[39;00m\n\u001b[1;32m    259\u001b[0m \n\u001b[1;32m    260\u001b[0m \u001b[39m    This method will return when the forces on all individual\u001b[39;00m\n\u001b[0;32m   (...)\u001b[0m\n\u001b[1;32m    272\u001b[0m \u001b[39m        True if the forces on atoms are converged.\u001b[39;00m\n\u001b[1;32m    273\u001b[0m \u001b[39m    \"\"\"\u001b[39;00m\n\u001b[0;32m--> 275\u001b[0m     \u001b[39mfor\u001b[39;00m converged \u001b[39min\u001b[39;00m Dynamics\u001b[39m.\u001b[39mirun(\u001b[39mself\u001b[39m, steps\u001b[39m=\u001b[39msteps):\n\u001b[1;32m    276\u001b[0m         \u001b[39mpass\u001b[39;00m\n\u001b[1;32m    277\u001b[0m     \u001b[39mreturn\u001b[39;00m converged\n",
      "File \u001b[0;32m~/Library/Python/3.9/lib/python/site-packages/ase/optimize/optimize.py:225\u001b[0m, in \u001b[0;36mDynamics.irun\u001b[0;34m(self, steps)\u001b[0m\n\u001b[1;32m    222\u001b[0m \u001b[39mself\u001b[39m\u001b[39m.\u001b[39mmax_steps \u001b[39m=\u001b[39m \u001b[39mself\u001b[39m\u001b[39m.\u001b[39mnsteps \u001b[39m+\u001b[39m steps\n\u001b[1;32m    224\u001b[0m \u001b[39m# compute the initial step\u001b[39;00m\n\u001b[0;32m--> 225\u001b[0m \u001b[39mself\u001b[39;49m\u001b[39m.\u001b[39;49moptimizable\u001b[39m.\u001b[39;49mget_forces()\n\u001b[1;32m    227\u001b[0m \u001b[39m# log the initial step\u001b[39;00m\n\u001b[1;32m    228\u001b[0m \u001b[39mif\u001b[39;00m \u001b[39mself\u001b[39m\u001b[39m.\u001b[39mnsteps \u001b[39m==\u001b[39m \u001b[39m0\u001b[39m:\n",
      "File \u001b[0;32m~/Library/Python/3.9/lib/python/site-packages/ase/optimize/optimize.py:34\u001b[0m, in \u001b[0;36mOptimizableAtoms.get_forces\u001b[0;34m(self)\u001b[0m\n\u001b[1;32m     33\u001b[0m \u001b[39mdef\u001b[39;00m \u001b[39mget_forces\u001b[39m(\u001b[39mself\u001b[39m):\n\u001b[0;32m---> 34\u001b[0m     \u001b[39mreturn\u001b[39;00m \u001b[39mself\u001b[39;49m\u001b[39m.\u001b[39;49matoms\u001b[39m.\u001b[39;49mget_forces()\n",
      "File \u001b[0;32m~/Library/Python/3.9/lib/python/site-packages/ase/atoms.py:812\u001b[0m, in \u001b[0;36mAtoms.get_forces\u001b[0;34m(self, apply_constraint, md)\u001b[0m\n\u001b[1;32m    810\u001b[0m \u001b[39mif\u001b[39;00m \u001b[39mself\u001b[39m\u001b[39m.\u001b[39m_calc \u001b[39mis\u001b[39;00m \u001b[39mNone\u001b[39;00m:\n\u001b[1;32m    811\u001b[0m     \u001b[39mraise\u001b[39;00m \u001b[39mRuntimeError\u001b[39;00m(\u001b[39m'\u001b[39m\u001b[39mAtoms object has no calculator.\u001b[39m\u001b[39m'\u001b[39m)\n\u001b[0;32m--> 812\u001b[0m forces \u001b[39m=\u001b[39m \u001b[39mself\u001b[39;49m\u001b[39m.\u001b[39;49m_calc\u001b[39m.\u001b[39;49mget_forces(\u001b[39mself\u001b[39;49m)\n\u001b[1;32m    814\u001b[0m \u001b[39mif\u001b[39;00m apply_constraint:\n\u001b[1;32m    815\u001b[0m     \u001b[39m# We need a special md flag here because for MD we want\u001b[39;00m\n\u001b[1;32m    816\u001b[0m     \u001b[39m# to skip real constraints but include special \"constraints\"\u001b[39;00m\n\u001b[1;32m    817\u001b[0m     \u001b[39m# Like Hookean.\u001b[39;00m\n\u001b[1;32m    818\u001b[0m     \u001b[39mfor\u001b[39;00m constraint \u001b[39min\u001b[39;00m \u001b[39mself\u001b[39m\u001b[39m.\u001b[39mconstraints:\n",
      "File \u001b[0;32m~/Library/Python/3.9/lib/python/site-packages/ase/calculators/abc.py:30\u001b[0m, in \u001b[0;36mGetPropertiesMixin.get_forces\u001b[0;34m(self, atoms)\u001b[0m\n\u001b[1;32m     29\u001b[0m \u001b[39mdef\u001b[39;00m \u001b[39mget_forces\u001b[39m(\u001b[39mself\u001b[39m, atoms\u001b[39m=\u001b[39m\u001b[39mNone\u001b[39;00m):\n\u001b[0;32m---> 30\u001b[0m     \u001b[39mreturn\u001b[39;00m \u001b[39mself\u001b[39;49m\u001b[39m.\u001b[39;49mget_property(\u001b[39m'\u001b[39;49m\u001b[39mforces\u001b[39;49m\u001b[39m'\u001b[39;49m, atoms)\n",
      "File \u001b[0;32m~/Library/Python/3.9/lib/python/site-packages/ase/calculators/calculator.py:538\u001b[0m, in \u001b[0;36mBaseCalculator.get_property\u001b[0;34m(self, name, atoms, allow_calculation)\u001b[0m\n\u001b[1;32m    535\u001b[0m     \u001b[39mif\u001b[39;00m \u001b[39mself\u001b[39m\u001b[39m.\u001b[39muse_cache:\n\u001b[1;32m    536\u001b[0m         \u001b[39mself\u001b[39m\u001b[39m.\u001b[39matoms \u001b[39m=\u001b[39m atoms\u001b[39m.\u001b[39mcopy()\n\u001b[0;32m--> 538\u001b[0m     \u001b[39mself\u001b[39;49m\u001b[39m.\u001b[39;49mcalculate(atoms, [name], system_changes)\n\u001b[1;32m    540\u001b[0m \u001b[39mif\u001b[39;00m name \u001b[39mnot\u001b[39;00m \u001b[39min\u001b[39;00m \u001b[39mself\u001b[39m\u001b[39m.\u001b[39mresults:\n\u001b[1;32m    541\u001b[0m     \u001b[39m# For some reason the calculator was not able to do what we want,\u001b[39;00m\n\u001b[1;32m    542\u001b[0m     \u001b[39m# and that is OK.\u001b[39;00m\n\u001b[1;32m    543\u001b[0m     \u001b[39mraise\u001b[39;00m PropertyNotImplementedError(\n\u001b[1;32m    544\u001b[0m         \u001b[39m'\u001b[39m\u001b[39m{}\u001b[39;00m\u001b[39m not present in this \u001b[39m\u001b[39m'\u001b[39m \u001b[39m'\u001b[39m\u001b[39mcalculation\u001b[39m\u001b[39m'\u001b[39m\u001b[39m.\u001b[39mformat(name)\n\u001b[1;32m    545\u001b[0m     )\n",
      "File \u001b[0;32m~/Library/Python/3.9/lib/python/site-packages/ase/calculators/genericfileio.py:322\u001b[0m, in \u001b[0;36mGenericFileIOCalculator.calculate\u001b[0;34m(self, atoms, properties, system_changes)\u001b[0m\n\u001b[1;32m    320\u001b[0m \u001b[39mdef\u001b[39;00m \u001b[39mcalculate\u001b[39m(\u001b[39mself\u001b[39m, atoms, properties, system_changes):\n\u001b[1;32m    321\u001b[0m     \u001b[39mself\u001b[39m\u001b[39m.\u001b[39mwrite_inputfiles(atoms, properties)\n\u001b[0;32m--> 322\u001b[0m     \u001b[39mself\u001b[39;49m\u001b[39m.\u001b[39;49mtemplate\u001b[39m.\u001b[39;49mexecute(\u001b[39mself\u001b[39;49m\u001b[39m.\u001b[39;49mdirectory, \u001b[39mself\u001b[39;49m\u001b[39m.\u001b[39;49mprofile)\n\u001b[1;32m    323\u001b[0m     \u001b[39mself\u001b[39m\u001b[39m.\u001b[39mresults \u001b[39m=\u001b[39m \u001b[39mself\u001b[39m\u001b[39m.\u001b[39mtemplate\u001b[39m.\u001b[39mread_results(\u001b[39mself\u001b[39m\u001b[39m.\u001b[39mdirectory)\n",
      "File \u001b[0;32m~/Library/Python/3.9/lib/python/site-packages/ase/calculators/espresso.py:84\u001b[0m, in \u001b[0;36mEspressoTemplate.execute\u001b[0;34m(self, directory, profile)\u001b[0m\n\u001b[1;32m     83\u001b[0m \u001b[39mdef\u001b[39;00m \u001b[39mexecute\u001b[39m(\u001b[39mself\u001b[39m, directory, profile):\n\u001b[0;32m---> 84\u001b[0m     profile\u001b[39m.\u001b[39;49mrun(directory, \u001b[39mself\u001b[39;49m\u001b[39m.\u001b[39;49minputname, \u001b[39mself\u001b[39;49m\u001b[39m.\u001b[39;49moutputname,\n\u001b[1;32m     85\u001b[0m                 errorfile\u001b[39m=\u001b[39;49m\u001b[39mself\u001b[39;49m\u001b[39m.\u001b[39;49merrorname)\n",
      "File \u001b[0;32m~/Library/Python/3.9/lib/python/site-packages/ase/calculators/genericfileio.py:93\u001b[0m, in \u001b[0;36mBaseProfile.run\u001b[0;34m(self, directory, inputfile, outputfile, errorfile, append)\u001b[0m\n\u001b[1;32m     91\u001b[0m \u001b[39melse\u001b[39;00m:\n\u001b[1;32m     92\u001b[0m     fd_err \u001b[39m=\u001b[39m \u001b[39mNone\u001b[39;00m\n\u001b[0;32m---> 93\u001b[0m check_call(\n\u001b[1;32m     94\u001b[0m     argv_command,\n\u001b[1;32m     95\u001b[0m     cwd\u001b[39m=\u001b[39;49mdirectory,\n\u001b[1;32m     96\u001b[0m     stdout\u001b[39m=\u001b[39;49mfd_out,\n\u001b[1;32m     97\u001b[0m     stderr\u001b[39m=\u001b[39;49mfd_err,\n\u001b[1;32m     98\u001b[0m     env\u001b[39m=\u001b[39;49mos\u001b[39m.\u001b[39;49menviron,\n\u001b[1;32m     99\u001b[0m )\n",
      "File \u001b[0;32m/Applications/Xcode.app/Contents/Developer/Library/Frameworks/Python3.framework/Versions/3.9/lib/python3.9/subprocess.py:373\u001b[0m, in \u001b[0;36mcheck_call\u001b[0;34m(*popenargs, **kwargs)\u001b[0m\n\u001b[1;32m    371\u001b[0m     \u001b[39mif\u001b[39;00m cmd \u001b[39mis\u001b[39;00m \u001b[39mNone\u001b[39;00m:\n\u001b[1;32m    372\u001b[0m         cmd \u001b[39m=\u001b[39m popenargs[\u001b[39m0\u001b[39m]\n\u001b[0;32m--> 373\u001b[0m     \u001b[39mraise\u001b[39;00m CalledProcessError(retcode, cmd)\n\u001b[1;32m    374\u001b[0m \u001b[39mreturn\u001b[39;00m \u001b[39m0\u001b[39m\n",
      "\u001b[0;31mCalledProcessError\u001b[0m: Command '['mpirun', '-np', '4', '/Users/oliviero/PWSCF/espresso-git/bin/pw.x', '-in', 'espresso.pwi']' returned non-zero exit status 1."
     ]
    }
   ],
   "source": [
    "dyn = QuasiNewton(MoS2OH, trajectory='MoS2OH.traj')\n",
    "t = time.time()\n",
    "dyn.run(fmax=0.05)\n",
    "print('Calculation time: {} min.'.format((time.time() - t) / 60))"
   ]
  },
  {
   "cell_type": "code",
   "execution_count": null,
   "metadata": {},
   "outputs": [],
   "source": [
    "e_slab = slab.get_potential_energy()\n",
    "print(\"Ni(111) energy: \", e_slab, \" eV\")"
   ]
  },
  {
   "cell_type": "code",
   "execution_count": null,
   "metadata": {},
   "outputs": [],
   "source": [
    "# Creating the OH molecule and a new Ni slab\n",
    "oh_molecule = Atoms('OH', positions=[(0, 0, 0), (0, -0.763, 0.596)])\n",
    "slabNi = fcc111(\"Ni\", a=lattice_constant_Ni, size=(2,2,2))\n",
    "\n",
    "# Placing the molecule close to a top Ni atom, where it would bind\n",
    "p = slabNi.positions[4]\n",
    "oh_molecule.translate(p + (0, 0, 1.5))\n",
    "slabOH = slabNi + oh_molecule\n",
    "slabOH.center(vacuum=2.0)"
   ]
  },
  {
   "cell_type": "code",
   "execution_count": null,
   "metadata": {},
   "outputs": [],
   "source": [
    "# We fix again some atoms of the slab to speed up calculations\n",
    "constraint = FixAtoms(indices=[0,1,2,3,5,6,7])\n",
    "slabOH.set_constraint(constraint)\n",
    "view(slabOH)"
   ]
  },
  {
   "cell_type": "code",
   "execution_count": null,
   "metadata": {},
   "outputs": [],
   "source": [
    "slabOH.set_calculator(calculator)\n",
    "\n",
    "dynOH = QuasiNewton(slabOH, trajectory=\"OH_Ni.traj\", )\n",
    "t = time.time()\n",
    "dynOH.run(fmax=0.05)\n",
    "print('Calculation time: {} min.'.format((time.time() - t) / 60))\n",
    "\n",
    "e_slabOH = slabOH.get_potential_energy()\n",
    "print(\"OH on Ni(111) energy: \", e_slabOH, \" eV\")\n",
    "print(\"bond Ni-O: \", slabOH.get_distance(4,8))\n",
    "print(\"bond O-H: \", slabOH.get_distance(8,9))"
   ]
  },
  {
   "cell_type": "code",
   "execution_count": null,
   "metadata": {},
   "outputs": [],
   "source": [
    "\n",
    "\"\"\"\n",
    "Calculations to obtain the free energy of the OH adsorbed on the Ni slab\n",
    "\"\"\"\n",
    "\n",
    "\n",
    "\n",
    "\"\"\"\n",
    "Calculations to get the free energy of the O intermediate adsorbed on the Ni surface\n",
    "\"\"\"\n",
    "o_molecule = Atoms('O', positions=[(0, 0, 0)])\n",
    "slabNi = fcc111(\"Ni\", a=lattice_constant_Ni, size=(2,2,2))\n",
    "p = slabNi.positions[4]\n",
    "o_molecule.translate(p + (0, 0, 1.5))\n",
    "slabO = slabNi + o_molecule\n",
    "slabO.center(vacuum=2.0)\n",
    "constraint = FixAtoms(indices=[0,1,2,3,5,6,7])\n",
    "slabO.set_constraint(constraint)\n",
    "view(slabO)\n",
    "\n",
    "slabO.set_calculator(calculator)\n",
    "dynO = QuasiNewton(slabO, trajectory=\"O_Ni.traj\", )\n",
    "t = time.time()\n",
    "dynO.run(fmax=0.05)\n",
    "print('Calculation time: {} min.'.format((time.time() - t) / 60))\n",
    "\n",
    "e_slabO = slabO.get_potential_energy()\n",
    "print(\"O on Ni(111) energy: \", e_slabO, \" eV\")\n",
    "view(slabO)\n",
    "print(\"bond Ni-O: \", slabO.get_distance(4,8))\n",
    "\n",
    "\n",
    "\"\"\"\n",
    "Calculations to get the free energy of the OOH intermediate adsorbed on the Ni surface\n",
    "\"\"\"\n",
    "ooh_molecule = Atoms('OOH', positions=[(0, 0, 0), (0, 0, 1.4), (0, -0.763, 2.0)])\n",
    "slabNi = fcc111(\"Ni\", a=lattice_constant_Ni, size=(2,2,2))\n",
    "p = slabNi.positions[4]\n",
    "ooh_molecule.translate(p + (0, 0, 1.5))\n",
    "slabOOH = slabNi + ooh_molecule\n",
    "slabOOH.center(vacuum=2.0)\n",
    "constraint = FixAtoms(indices=[0,1,2,3,5,6,7])\n",
    "slabOOH.set_constraint(constraint)\n",
    "view(slabOOH)\n",
    "\n",
    "slabOOH.set_calculator(calculator)\n",
    "dynOOH = QuasiNewton(slabOOH, trajectory=\"OOH_Ni.traj\", )\n",
    "t = time.time()\n",
    "dynOOH.run(fmax=0.05)\n",
    "print('Calculation time: {} min.'.format((time.time() - t) / 60))\n",
    "\n",
    "e_slabO = slabOOH.get_potential_energy()\n",
    "print(\"OOH on Ni(111) energy: \", e_slabO, \" eV\")\n",
    "view(slabOOH)\n",
    "print(\"bond Ni-O: \", slabOOH.get_distance(4,8))\n",
    "\n",
    "\n",
    "\n",
    "\n",
    "\"\"\"\n",
    "Calculations to get the free energy of H2O and H2 needed to calculate the free energies of the reaction\n",
    "\"\"\"\n",
    "\n",
    "calculator2 = GPAW(xc='RPBE', mode=PW(350), h=0.2, occupations=FermiDirac(0.1))\n",
    "h2o_molecule = molecule(\"H2O\")\n",
    "h2o_molecule.set_cell(slab.get_cell())\n",
    "h2o_molecule.center(vacuum=2.0)\n",
    "h2o_molecule.set_calculator(calculator2)\n",
    "dynH2O = QuasiNewton(h2o_molecule, trajectory='H2O.traj')\n",
    "t = time.time()\n",
    "dynH2O.run(fmax=0.05)\n",
    "print('Calculation time: {} min.'.format((time.time() - t) / 60))\n",
    "e_h2o = h2o_molecule.get_potential_energy()\n",
    "print(\"H2O energy: \", e_h2o, \" eV\")\n",
    "print(\"O-H bond lenght: \", h2o_molecule.get_distance(0,1))\n",
    "\n",
    "\n",
    "h2_molecule = molecule(\"H2\")\n",
    "h2_molecule.set_cell(slab.get_cell())\n",
    "h2_molecule.center(vacuum=2.0)\n",
    "h2_molecule.set_calculator(calculator2)\n",
    "dynH2 = QuasiNewton(h2_molecule, trajectory='H2.traj')\n",
    "t = time.time()\n",
    "dynH2.run(fmax=0.05)\n",
    "print('Calculation time: {} min.'.format((time.time() - t) / 60))\n",
    "e_h2 = h2_molecule.get_potential_energy()\n",
    "print(\"H2 energy: \", e_h2, \" eV\")\n",
    "print(\"H-H bond lenght: \", h2_molecule.get_distance(0,1))"
   ]
  }
 ],
 "metadata": {
  "kernelspec": {
   "display_name": "Python 3",
   "language": "python",
   "name": "python3"
  },
  "language_info": {
   "codemirror_mode": {
    "name": "ipython",
    "version": 3
   },
   "file_extension": ".py",
   "mimetype": "text/x-python",
   "name": "python",
   "nbconvert_exporter": "python",
   "pygments_lexer": "ipython3",
   "version": "3.9.6"
  },
  "orig_nbformat": 4
 },
 "nbformat": 4,
 "nbformat_minor": 2
}
