{
 "cells": [
  {
   "cell_type": "markdown",
   "metadata": {},
   "source": [
    "# Computational Hydrogen Electrode Tutorial"
   ]
  },
  {
   "cell_type": "markdown",
   "metadata": {},
   "source": [
    "Import useful modules"
   ]
  },
  {
   "cell_type": "code",
   "execution_count": null,
   "metadata": {},
   "outputs": [],
   "source": [
    "import numpy as np\n",
    "import matplotlib.pyplot as plt\n",
    "from ase.io import read\n",
    "from ase import Atoms\n",
    "from ase.build import mx2, molecule\n",
    "from ase.constraints import FixAtoms\n",
    "from ase.visualize import view\n",
    "from ase.calculators.espresso import Espresso, EspressoProfile\n",
    "import time"
   ]
  },
  {
   "cell_type": "code",
   "execution_count": null,
   "metadata": {},
   "outputs": [],
   "source": [
    "MoS2 = mx2(formula='MoS2', kind='2H', a=3.18, thickness=3.19, size=(2, 2, 1), vacuum=10.)"
   ]
  },
  {
   "cell_type": "code",
   "execution_count": null,
   "metadata": {},
   "outputs": [],
   "source": [
    "MoS2.positions"
   ]
  },
  {
   "cell_type": "code",
   "execution_count": null,
   "metadata": {},
   "outputs": [],
   "source": [
    "# Optionally create profile to override paths in ASE configuration:\n",
    "profile = EspressoProfile(\n",
    "    command='mpirun -np 4 /Users/oliviero/PWSCF/espresso-git/bin/pw.x', pseudo_dir='./pseudos/'\n",
    ")"
   ]
  },
  {
   "cell_type": "code",
   "execution_count": null,
   "metadata": {},
   "outputs": [],
   "source": [
    "pseudopotentials = {\n",
    "    \"H\":\"H.pbe-rrkjus_psl.1.0.0.UPF\",\n",
    "    \"O\":\"O.pbe-n-kjpaw_psl.0.1.UPF\",\n",
    "    \"Mo\":\"Mo_ONCV_PBE-1.0.oncvpsp.upf\",\n",
    "    \"S\":\"s_pbe_v1.4.uspp.F.UPF\"\n",
    "}"
   ]
  },
  {
   "cell_type": "code",
   "execution_count": null,
   "metadata": {},
   "outputs": [],
   "source": [
    "input_data = {\n",
    "    'control': {\n",
    "        'restart_mode': 'from_scratch',\n",
    "        'pseudo_dir': './pseudos',\n",
    "        'calculation': 'scf',\n",
    "        'prefix': 'MoS2'\n",
    "    },\n",
    "    'system': {\n",
    "        'ecutwfc': 60,\n",
    "        'ecutrho': 500,\n",
    "        'occupations':'smearing',\n",
    "        'smearing':'gauss',\n",
    "        'degauss': 0.01\n",
    "    },\n",
    "    'electrons': {\n",
    "        'conv_thr': 1.0e-8, \n",
    "        'mixing_beta': 0.7\n",
    "    },\n",
    "} \n",
    "\n",
    "calc = Espresso(\n",
    "    profile=profile,\n",
    "    pseudopotentials=pseudopotentials,\n",
    "    tstress=True,  # deprecated, put in input_data\n",
    "    tprnfor=True,  # deprecated, put in input_data\n",
    "    input_data=input_data,\n",
    "    kpts=(1,1,1),\n",
    "    koffset=(0,0,0))\n",
    "\n",
    "MoS2.calc = calc"
   ]
  },
  {
   "cell_type": "code",
   "execution_count": null,
   "metadata": {},
   "outputs": [],
   "source": [
    "eMoS2 = MoS2.get_potential_energy()"
   ]
  },
  {
   "cell_type": "code",
   "execution_count": null,
   "metadata": {},
   "outputs": [],
   "source": [
    "print(eMoS2)"
   ]
  },
  {
   "cell_type": "code",
   "execution_count": null,
   "metadata": {},
   "outputs": [],
   "source": [
    "MoS2 = read('MoS2_vcrelax.out')"
   ]
  },
  {
   "cell_type": "code",
   "execution_count": null,
   "metadata": {},
   "outputs": [],
   "source": [
    "MoS2.center()"
   ]
  },
  {
   "cell_type": "code",
   "execution_count": null,
   "metadata": {},
   "outputs": [],
   "source": [
    "MoS2.positions"
   ]
  },
  {
   "cell_type": "code",
   "execution_count": null,
   "metadata": {},
   "outputs": [],
   "source": [
    "atop_index = 1"
   ]
  },
  {
   "cell_type": "code",
   "execution_count": null,
   "metadata": {},
   "outputs": [],
   "source": [
    "MoS2.positions[atop_index]"
   ]
  },
  {
   "cell_type": "code",
   "execution_count": null,
   "metadata": {},
   "outputs": [],
   "source": [
    "fixed = list(range(len(MoS2)))\n",
    "fixed.remove(atop_index)\n",
    "print(fixed)\n",
    "constraint = FixAtoms(indices=fixed)\n",
    "MoS2.set_constraint(constraint)"
   ]
  },
  {
   "cell_type": "code",
   "execution_count": null,
   "metadata": {},
   "outputs": [],
   "source": [
    "# Creating the OH molecule\n",
    "oh_molecule = Atoms('OH', positions=[(0, 0, 0), (0, -0.763, 0.596)])\n",
    "\n",
    "oh_molecule.translate(MoS2.positions[atop_index] + (0, 0, 1.87))\n",
    "\n",
    "oh_molecule.positions"
   ]
  },
  {
   "cell_type": "code",
   "execution_count": null,
   "metadata": {},
   "outputs": [],
   "source": [
    "MoS2OH = MoS2 + oh_molecule\n",
    "MoS2OH.positions"
   ]
  },
  {
   "cell_type": "code",
   "execution_count": null,
   "metadata": {},
   "outputs": [],
   "source": [
    "input_data = {\n",
    "    'control': {\n",
    "        'restart_mode': 'from_scratch',\n",
    "        'pseudo_dir': './pseudos',\n",
    "        'calculation': 'scf',\n",
    "        'prefix': 'MoS2OH'\n",
    "    },\n",
    "    'system': {\n",
    "        'ecutwfc': 60,\n",
    "        'ecutrho': 500,\n",
    "        'occupations':'smearing',\n",
    "        'smearing':'gauss',\n",
    "        'degauss': 0.01\n",
    "    },\n",
    "    'electrons': {\n",
    "        'conv_thr': 1.0e-8, \n",
    "        'mixing_beta': 0.7\n",
    "    },\n",
    "} \n",
    "\n",
    "calc = Espresso(\n",
    "    profile=profile,\n",
    "    pseudopotentials=pseudopotentials,\n",
    "    tstress=True,  # deprecated, put in input_data\n",
    "    tprnfor=True,  # deprecated, put in input_data\n",
    "    input_data=input_data,\n",
    "    kpts=(1,1,1),\n",
    "    koffset=(0,0,0))\n",
    "\n",
    "MoS2OH.calc = calc"
   ]
  },
  {
   "cell_type": "code",
   "execution_count": null,
   "metadata": {},
   "outputs": [],
   "source": [
    "from ase.optimize import QuasiNewton"
   ]
  },
  {
   "cell_type": "code",
   "execution_count": null,
   "metadata": {},
   "outputs": [],
   "source": [
    "dyn = QuasiNewton(MoS2OH, trajectory='MoS2OH.traj')\n",
    "t = time.time()\n",
    "dyn.run(fmax=0.05)\n",
    "print('Calculation time: {} min.'.format((time.time() - t) / 60))"
   ]
  },
  {
   "cell_type": "code",
   "execution_count": null,
   "metadata": {},
   "outputs": [],
   "source": [
    "print(\"bond S-O: \", MoS2OH.get_distance(1,12))\n",
    "print(\"bond O-H: \", MoS2OH.get_distance(12,13))"
   ]
  },
  {
   "cell_type": "code",
   "execution_count": null,
   "metadata": {},
   "outputs": [],
   "source": [
    "# Creating the OH molecule\n",
    "o_molecule = Atoms('O', positions=[(0, 0, 0)])\n",
    "\n",
    "o_molecule.translate(MoS2.positions[atop_index] + (0, 0, 1.872))\n",
    "\n",
    "o_molecule.positions"
   ]
  },
  {
   "cell_type": "code",
   "execution_count": null,
   "metadata": {},
   "outputs": [],
   "source": [
    "MoS2O = MoS2 + o_molecule\n",
    "MoS2O.positions"
   ]
  },
  {
   "cell_type": "code",
   "execution_count": null,
   "metadata": {},
   "outputs": [],
   "source": [
    "input_data = {\n",
    "    'control': {\n",
    "        'restart_mode': 'from_scratch',\n",
    "        'pseudo_dir': './pseudos',\n",
    "        'calculation': 'scf',\n",
    "        'prefix': 'MoS2O'\n",
    "    },\n",
    "    'system': {\n",
    "        'ecutwfc': 60,\n",
    "        'ecutrho': 500,\n",
    "        'occupations':'smearing',\n",
    "        'smearing':'gauss',\n",
    "        'degauss': 0.01\n",
    "    },\n",
    "    'electrons': {\n",
    "        'conv_thr': 1.0e-8, \n",
    "        'mixing_beta': 0.7\n",
    "    },\n",
    "} \n",
    "\n",
    "calc = Espresso(\n",
    "    profile=profile,\n",
    "    pseudopotentials=pseudopotentials,\n",
    "    tstress=True,  # deprecated, put in input_data\n",
    "    tprnfor=True,  # deprecated, put in input_data\n",
    "    input_data=input_data,\n",
    "    kpts=(1,1,1),\n",
    "    koffset=(0,0,0))\n",
    "\n",
    "MoS2O.calc = calc"
   ]
  },
  {
   "cell_type": "code",
   "execution_count": null,
   "metadata": {},
   "outputs": [],
   "source": [
    "dyn = QuasiNewton(MoS2O, trajectory='MoS2O.traj')\n",
    "t = time.time()\n",
    "dyn.run(fmax=0.05)\n",
    "print('Calculation time: {} min.'.format((time.time() - t) / 60))"
   ]
  },
  {
   "cell_type": "code",
   "execution_count": null,
   "metadata": {},
   "outputs": [],
   "source": [
    "print(\"bond S-O: \", MoS2OH.get_distance(1,12))"
   ]
  },
  {
   "cell_type": "code",
   "execution_count": null,
   "metadata": {},
   "outputs": [],
   "source": [
    "ooh_molecule = Atoms('OOH', positions=[(0, 0, 0), (0.75, 0.34, 1.10), (0.1, 0.25, 1.85)])\n",
    "\n",
    "ooh_molecule.translate(MoS2.positions[atop_index] + (0, 0, 1.87))\n",
    "\n",
    "ooh_molecule.positions"
   ]
  },
  {
   "cell_type": "code",
   "execution_count": null,
   "metadata": {},
   "outputs": [],
   "source": [
    "MoS2OOH = MoS2 + ooh_molecule\n",
    "MoS2OOH.positions"
   ]
  },
  {
   "cell_type": "code",
   "execution_count": null,
   "metadata": {},
   "outputs": [],
   "source": [
    "input_data = {\n",
    "    'control': {\n",
    "        'restart_mode': 'from_scratch',\n",
    "        'pseudo_dir': './pseudos',\n",
    "        'calculation': 'scf',\n",
    "        'prefix': 'MoS2O'\n",
    "    },\n",
    "    'system': {\n",
    "        'ecutwfc': 60,\n",
    "        'ecutrho': 500,\n",
    "        'occupations':'smearing',\n",
    "        'smearing':'gauss',\n",
    "        'degauss': 0.01\n",
    "    },\n",
    "    'electrons': {\n",
    "        'conv_thr': 1.0e-8, \n",
    "        'mixing_beta': 0.7\n",
    "    },\n",
    "} \n",
    "\n",
    "calc = Espresso(\n",
    "    profile=profile,\n",
    "    pseudopotentials=pseudopotentials,\n",
    "    tstress=True,  # deprecated, put in input_data\n",
    "    tprnfor=True,  # deprecated, put in input_data\n",
    "    input_data=input_data,\n",
    "    kpts=(1,1,1),\n",
    "    koffset=(0,0,0))\n",
    "\n",
    "MoS2OOH.calc = calc"
   ]
  },
  {
   "cell_type": "code",
   "execution_count": null,
   "metadata": {},
   "outputs": [],
   "source": [
    "dyn = QuasiNewton(MoS2OOH, trajectory='MoS2OOH.traj')\n",
    "t = time.time()\n",
    "dyn.run(fmax=0.05)\n",
    "print('Calculation time: {} min.'.format((time.time() - t) / 60))"
   ]
  },
  {
   "cell_type": "code",
   "execution_count": null,
   "metadata": {},
   "outputs": [],
   "source": [
    "h2_molecule = molecule(\"H2\")\n",
    "h2_molecule.set_cell(MoS2.get_cell())\n",
    "h2_molecule.calc = calc\n",
    "dynH2 = QuasiNewton(h2_molecule, trajectory='H2.traj')\n",
    "t = time.time()\n",
    "dynH2.run(fmax=0.05)\n",
    "print('Calculation time: {} min.'.format((time.time() - t) / 60))\n",
    "e_h2 = h2_molecule.get_potential_energy()\n",
    "print(\"H2 energy: \", e_h2, \" eV\")\n",
    "print(\"H-H bond lenght: \", h2_molecule.get_distance(0,1))"
   ]
  },
  {
   "cell_type": "code",
   "execution_count": null,
   "metadata": {},
   "outputs": [],
   "source": [
    "h2o_molecule = molecule(\"H2O\")\n",
    "h2o_molecule.set_cell(MoS2.get_cell())\n",
    "h2o_molecule.calc = calc\n",
    "dynH2O = QuasiNewton(h2o_molecule, trajectory='H2O.traj')\n",
    "t = time.time()\n",
    "dynH2O.run(fmax=0.05)\n",
    "print('Calculation time: {} min.'.format((time.time() - t) / 60))\n",
    "e_h2o = h2o_molecule.get_potential_energy()\n",
    "print(\"H2O energy: \", e_h2o, \" eV\")\n",
    "print(\"O-H bond lenght: \", h2o_molecule.get_distance(0,1))"
   ]
  },
  {
   "cell_type": "code",
   "execution_count": null,
   "metadata": {},
   "outputs": [],
   "source": [
    "\n",
    "\n",
    "\"\"\"\n",
    "Calculations to get the free energy of the O intermediate adsorbed on the Ni surface\n",
    "\"\"\"\n",
    "o_molecule = Atoms('O', positions=[(0, 0, 0)])\n",
    "slabNi = fcc111(\"Ni\", a=lattice_constant_Ni, size=(2,2,2))\n",
    "p = slabNi.positions[4]\n",
    "o_molecule.translate(p + (0, 0, 1.5))\n",
    "slabO = slabNi + o_molecule\n",
    "slabO.center(vacuum=2.0)\n",
    "constraint = FixAtoms(indices=[0,1,2,3,5,6,7])\n",
    "slabO.set_constraint(constraint)\n",
    "view(slabO)\n",
    "\n",
    "slabO.set_calculator(calculator)\n",
    "dynO = QuasiNewton(slabO, trajectory=\"O_Ni.traj\", )\n",
    "t = time.time()\n",
    "dynO.run(fmax=0.05)\n",
    "print('Calculation time: {} min.'.format((time.time() - t) / 60))\n",
    "\n",
    "e_slabO = slabO.get_potential_energy()\n",
    "print(\"O on Ni(111) energy: \", e_slabO, \" eV\")\n",
    "view(slabO)\n",
    "print(\"bond Ni-O: \", slabO.get_distance(4,8))\n",
    "\n",
    "\n",
    "\"\"\"\n",
    "Calculations to get the free energy of the OOH intermediate adsorbed on the Ni surface\n",
    "\"\"\"\n",
    "ooh_molecule = Atoms('OOH', positions=[(0, 0, 0), (0, 0, 1.4), (0, -0.763, 2.0)])\n",
    "slabNi = fcc111(\"Ni\", a=lattice_constant_Ni, size=(2,2,2))\n",
    "p = slabNi.positions[4]\n",
    "ooh_molecule.translate(p + (0, 0, 1.5))\n",
    "slabOOH = slabNi + ooh_molecule\n",
    "slabOOH.center(vacuum=2.0)\n",
    "constraint = FixAtoms(indices=[0,1,2,3,5,6,7])\n",
    "slabOOH.set_constraint(constraint)\n",
    "view(slabOOH)\n",
    "\n",
    "slabOOH.set_calculator(calculator)\n",
    "dynOOH = QuasiNewton(slabOOH, trajectory=\"OOH_Ni.traj\", )\n",
    "t = time.time()\n",
    "dynOOH.run(fmax=0.05)\n",
    "print('Calculation time: {} min.'.format((time.time() - t) / 60))\n",
    "\n",
    "e_slabO = slabOOH.get_potential_energy()\n",
    "print(\"OOH on Ni(111) energy: \", e_slabO, \" eV\")\n",
    "view(slabOOH)\n",
    "print(\"bond Ni-O: \", slabOOH.get_distance(4,8))\n",
    "\n",
    "\n",
    "\n",
    "\n",
    "\"\"\"\n",
    "Calculations to get the free energy of H2O and H2 needed to calculate the free energies of the reaction\n",
    "\"\"\"\n",
    "\n",
    "calculator2 = GPAW(xc='RPBE', mode=PW(350), h=0.2, occupations=FermiDirac(0.1))\n",
    "\n",
    "\n",
    "h2_molecule = molecule(\"H2\")\n",
    "h2_molecule.set_cell(slab.get_cell())\n",
    "h2_molecule.center(vacuum=2.0)\n",
    "h2_molecule.set_calculator(calculator2)\n",
    "dynH2 = QuasiNewton(h2_molecule, trajectory='H2.traj')\n",
    "t = time.time()\n",
    "dynH2.run(fmax=0.05)\n",
    "print('Calculation time: {} min.'.format((time.time() - t) / 60))\n",
    "e_h2 = h2_molecule.get_potential_energy()\n",
    "print(\"H2 energy: \", e_h2, \" eV\")\n",
    "print(\"H-H bond lenght: \", h2_molecule.get_distance(0,1))"
   ]
  }
 ],
 "metadata": {
  "kernelspec": {
   "display_name": "Python 3",
   "language": "python",
   "name": "python3"
  },
  "language_info": {
   "codemirror_mode": {
    "name": "ipython",
    "version": 3
   },
   "file_extension": ".py",
   "mimetype": "text/x-python",
   "name": "python",
   "nbconvert_exporter": "python",
   "pygments_lexer": "ipython3"
  }
 },
 "nbformat": 4,
 "nbformat_minor": 2
}
