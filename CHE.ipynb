{
 "cells": [
  {
   "cell_type": "markdown",
   "metadata": {},
   "source": [
    "# Computational Hydrogen Electrode Tutorial"
   ]
  },
  {
   "cell_type": "markdown",
   "metadata": {},
   "source": [
    "Import useful modules"
   ]
  },
  {
   "cell_type": "code",
   "execution_count": 23,
   "metadata": {},
   "outputs": [],
   "source": [
    "import numpy as np\n",
    "import matplotlib.pyplot as plt\n",
    "from ase.io import read\n",
    "from ase import Atoms\n",
    "from ase.build import mx2, molecule\n",
    "from ase.constraints import FixAtoms\n",
    "from ase.visualize import view\n",
    "from ase.calculators.espresso import Espresso, EspressoProfile\n",
    "import time"
   ]
  },
  {
   "cell_type": "code",
   "execution_count": 42,
   "metadata": {},
   "outputs": [],
   "source": [
    "MoS2 = mx2(formula='MoS2', kind='2H', a=3.18, thickness=3.19, size=(2, 2, 1), vacuum=10.)"
   ]
  },
  {
   "cell_type": "code",
   "execution_count": 43,
   "metadata": {},
   "outputs": [
    {
     "data": {
      "text/plain": [
       "array([[ 0.        ,  0.        , 11.595     ],\n",
       "       [ 1.59      ,  0.91798693, 13.19      ],\n",
       "       [ 1.59      ,  0.91798693, 10.        ],\n",
       "       [-1.59      ,  2.75396078, 11.595     ],\n",
       "       [ 0.        ,  3.67194771, 13.19      ],\n",
       "       [ 0.        ,  3.67194771, 10.        ],\n",
       "       [ 3.18      ,  0.        , 11.595     ],\n",
       "       [ 4.77      ,  0.91798693, 13.19      ],\n",
       "       [ 4.77      ,  0.91798693, 10.        ],\n",
       "       [ 1.59      ,  2.75396078, 11.595     ],\n",
       "       [ 3.18      ,  3.67194771, 13.19      ],\n",
       "       [ 3.18      ,  3.67194771, 10.        ]])"
      ]
     },
     "execution_count": 43,
     "metadata": {},
     "output_type": "execute_result"
    }
   ],
   "source": [
    "MoS2.positions"
   ]
  },
  {
   "cell_type": "code",
   "execution_count": 44,
   "metadata": {},
   "outputs": [],
   "source": [
    "# Optionally create profile to override paths in ASE configuration:\n",
    "profile = EspressoProfile(\n",
    "    command='mpirun -np 4 /Users/oliviero/PWSCF/espresso-git/bin/pw.x', pseudo_dir='./pseudos/'\n",
    ")"
   ]
  },
  {
   "cell_type": "code",
   "execution_count": 45,
   "metadata": {},
   "outputs": [],
   "source": [
    "pseudopotentials = {\n",
    "    \"H\":\"H.pbe-rrkjus_psl.1.0.0.UPF\",\n",
    "    \"O\":\"O.pbe-n-kjpaw_psl.0.1.UPF\",\n",
    "    \"Mo\":\"Mo_ONCV_PBE-1.0.oncvpsp.upf\",\n",
    "    \"S\":\"s_pbe_v1.4.uspp.F.UPF\"\n",
    "}"
   ]
  },
  {
   "cell_type": "code",
   "execution_count": 122,
   "metadata": {},
   "outputs": [],
   "source": [
    "input_data = {\n",
    "    'control': {\n",
    "        'restart_mode': 'from_scratch',\n",
    "        'pseudo_dir': './pseudos',\n",
    "        'calculation': 'scf',\n",
    "        'prefix': 'MoS2'\n",
    "    },\n",
    "    'system': {\n",
    "        'ecutwfc': 60,\n",
    "        'ecutrho': 500,\n",
    "        'occupations':'smearing',\n",
    "        'smearing':'gauss',\n",
    "        'degauss': 0.01\n",
    "    },\n",
    "    'electrons': {\n",
    "        'conv_thr': 1.0e-8, \n",
    "        'mixing_beta': 0.7\n",
    "    },\n",
    "} \n",
    "\n",
    "calc = Espresso(\n",
    "    profile=profile,\n",
    "    pseudopotentials=pseudopotentials,\n",
    "    tstress=True,  # deprecated, put in input_data\n",
    "    tprnfor=True,  # deprecated, put in input_data\n",
    "    input_data=input_data,\n",
    "    kpts=(1,1,1),\n",
    "    koffset=(0,0,0))\n",
    "\n",
    "MoS2.calc = calc"
   ]
  },
  {
   "cell_type": "code",
   "execution_count": 123,
   "metadata": {},
   "outputs": [],
   "source": [
    "eMoS2 = MoS2.get_potential_energy()"
   ]
  },
  {
   "cell_type": "code",
   "execution_count": 124,
   "metadata": {},
   "outputs": [
    {
     "name": "stdout",
     "output_type": "stream",
     "text": [
      "-10094.420618981774\n"
     ]
    }
   ],
   "source": [
    "print(eMoS2)"
   ]
  },
  {
   "cell_type": "code",
   "execution_count": 125,
   "metadata": {},
   "outputs": [],
   "source": [
    "MoS2 = read('MoS2_vcrelax.out')"
   ]
  },
  {
   "cell_type": "code",
   "execution_count": 126,
   "metadata": {},
   "outputs": [],
   "source": [
    "MoS2.center()"
   ]
  },
  {
   "cell_type": "code",
   "execution_count": 127,
   "metadata": {},
   "outputs": [
    {
     "data": {
      "text/plain": [
       "array([[ 8.00261267e-04,  9.14688188e-01,  6.35012543e+00],\n",
       "       [ 1.58511123e+00,  1.82998009e+00,  7.94349870e+00],\n",
       "       [ 1.58511128e+00,  1.82997906e+00,  4.75675372e+00],\n",
       "       [-1.58573460e+00,  3.66043743e+00,  6.35012558e+00],\n",
       "       [-2.00093063e-03,  4.57641766e+00,  7.94411429e+00],\n",
       "       [-2.00114573e-03,  4.57641758e+00,  4.75613867e+00],\n",
       "       [ 3.17064002e+00,  9.15897827e-01,  6.35012497e+00],\n",
       "       [ 4.75648140e+00,  1.82987738e+00,  7.94453638e+00],\n",
       "       [ 4.75648244e+00,  1.82987791e+00,  4.75571733e+00],\n",
       "       [ 1.58410661e+00,  3.66164705e+00,  6.35012469e+00],\n",
       "       [ 3.16937385e+00,  4.57630852e+00,  7.94515188e+00],\n",
       "       [ 3.16937409e+00,  4.57630853e+00,  4.75510112e+00]])"
      ]
     },
     "execution_count": 127,
     "metadata": {},
     "output_type": "execute_result"
    }
   ],
   "source": [
    "MoS2.positions"
   ]
  },
  {
   "cell_type": "code",
   "execution_count": 133,
   "metadata": {},
   "outputs": [],
   "source": [
    "atop_index = 1"
   ]
  },
  {
   "cell_type": "code",
   "execution_count": 112,
   "metadata": {},
   "outputs": [
    {
     "data": {
      "text/plain": [
       "array([1.58511123, 1.82998009, 7.9434987 ])"
      ]
     },
     "execution_count": 112,
     "metadata": {},
     "output_type": "execute_result"
    }
   ],
   "source": [
    "MoS2.positions[atop_index]"
   ]
  },
  {
   "cell_type": "code",
   "execution_count": 140,
   "metadata": {},
   "outputs": [
    {
     "name": "stdout",
     "output_type": "stream",
     "text": [
      "[0, 2, 3, 4, 5, 6, 7, 8, 9, 10, 11]\n"
     ]
    }
   ],
   "source": [
    "fixed = list(range(len(MoS2)))\n",
    "fixed.remove(atop_index)\n",
    "print(fixed)\n",
    "constraint = FixAtoms(indices=fixed)\n",
    "MoS2.set_constraint(constraint)"
   ]
  },
  {
   "cell_type": "code",
   "execution_count": 134,
   "metadata": {},
   "outputs": [
    {
     "data": {
      "text/plain": [
       "array([[ 1.58511123,  1.82998009,  9.4434987 ],\n",
       "       [ 1.58511123,  1.06698009, 10.0394987 ]])"
      ]
     },
     "execution_count": 134,
     "metadata": {},
     "output_type": "execute_result"
    }
   ],
   "source": [
    "# Creating the OH molecule\n",
    "oh_molecule = Atoms('OH', positions=[(0, 0, 0), (0, -0.763, 0.596)])\n",
    "\n",
    "oh_molecule.translate(MoS2.positions[atop_index] + (0, 0, 1.87))\n",
    "\n",
    "oh_molecule.positions"
   ]
  },
  {
   "cell_type": "code",
   "execution_count": 135,
   "metadata": {},
   "outputs": [
    {
     "data": {
      "text/plain": [
       "array([[ 8.00261267e-04,  9.14688188e-01,  6.35012543e+00],\n",
       "       [ 1.58511123e+00,  1.82998009e+00,  7.94349870e+00],\n",
       "       [ 1.58511128e+00,  1.82997906e+00,  4.75675372e+00],\n",
       "       [-1.58573460e+00,  3.66043743e+00,  6.35012558e+00],\n",
       "       [-2.00093063e-03,  4.57641766e+00,  7.94411429e+00],\n",
       "       [-2.00114573e-03,  4.57641758e+00,  4.75613867e+00],\n",
       "       [ 3.17064002e+00,  9.15897827e-01,  6.35012497e+00],\n",
       "       [ 4.75648140e+00,  1.82987738e+00,  7.94453638e+00],\n",
       "       [ 4.75648244e+00,  1.82987791e+00,  4.75571733e+00],\n",
       "       [ 1.58410661e+00,  3.66164705e+00,  6.35012469e+00],\n",
       "       [ 3.16937385e+00,  4.57630852e+00,  7.94515188e+00],\n",
       "       [ 3.16937409e+00,  4.57630853e+00,  4.75510112e+00],\n",
       "       [ 1.58511123e+00,  1.82998009e+00,  9.44349870e+00],\n",
       "       [ 1.58511123e+00,  1.06698009e+00,  1.00394987e+01]])"
      ]
     },
     "execution_count": 135,
     "metadata": {},
     "output_type": "execute_result"
    }
   ],
   "source": [
    "MoS2OH = MoS2 + oh_molecule\n",
    "MoS2OH.positions"
   ]
  },
  {
   "cell_type": "code",
   "execution_count": 136,
   "metadata": {},
   "outputs": [],
   "source": [
    "input_data = {\n",
    "    'control': {\n",
    "        'restart_mode': 'from_scratch',\n",
    "        'pseudo_dir': './pseudos',\n",
    "        'calculation': 'scf',\n",
    "        'prefix': 'MoS2OH'\n",
    "    },\n",
    "    'system': {\n",
    "        'ecutwfc': 60,\n",
    "        'ecutrho': 500,\n",
    "        'occupations':'smearing',\n",
    "        'smearing':'gauss',\n",
    "        'degauss': 0.01\n",
    "    },\n",
    "    'electrons': {\n",
    "        'conv_thr': 1.0e-8, \n",
    "        'mixing_beta': 0.7\n",
    "    },\n",
    "} \n",
    "\n",
    "calc = Espresso(\n",
    "    profile=profile,\n",
    "    pseudopotentials=pseudopotentials,\n",
    "    tstress=True,  # deprecated, put in input_data\n",
    "    tprnfor=True,  # deprecated, put in input_data\n",
    "    input_data=input_data,\n",
    "    kpts=(1,1,1),\n",
    "    koffset=(0,0,0))\n",
    "\n",
    "MoS2OH.calc = calc"
   ]
  },
  {
   "cell_type": "code",
   "execution_count": 120,
   "metadata": {},
   "outputs": [],
   "source": [
    "from ase.optimize import QuasiNewton"
   ]
  },
  {
   "cell_type": "code",
   "execution_count": 137,
   "metadata": {},
   "outputs": [
    {
     "name": "stdout",
     "output_type": "stream",
     "text": [
      "                Step[ FC]     Time          Energy          fmax\n",
      "BFGSLineSearch:    0[  0] 19:07:08   -10674.144254       6.0320\n",
      "BFGSLineSearch:    1[  2] 19:11:54   -10674.613325       2.0485\n",
      "BFGSLineSearch:    2[  4] 19:16:09   -10674.660677       0.8835\n",
      "BFGSLineSearch:    3[  5] 20:16:42   -10674.740613       0.9519\n",
      "BFGSLineSearch:    4[  7] 20:21:27   -10674.784438       0.6007\n",
      "BFGSLineSearch:    5[  9] 20:26:14   -10674.819318       1.4818\n",
      "BFGSLineSearch:    6[ 10] 20:28:16   -10674.850648       0.4904\n",
      "BFGSLineSearch:    7[ 11] 20:30:59   -10674.869527       0.2305\n",
      "BFGSLineSearch:    8[ 12] 20:33:11   -10674.874348       0.1777\n",
      "BFGSLineSearch:    9[ 13] 20:35:31   -10674.877357       0.1420\n",
      "BFGSLineSearch:   10[ 15] 20:39:27   -10674.880650       0.0997\n",
      "BFGSLineSearch:   11[ 18] 20:45:42   -10674.898461       0.7778\n",
      "BFGSLineSearch:   12[ 19] 20:47:37   -10674.926511       0.9427\n",
      "BFGSLineSearch:   13[ 20] 20:49:27   -10674.950072       1.4237\n",
      "BFGSLineSearch:   14[ 21] 20:51:21   -10674.974547       0.3562\n",
      "BFGSLineSearch:   15[ 23] 20:54:59   -10674.981519       0.3014\n",
      "BFGSLineSearch:   16[ 24] 20:56:50   -10674.984970       0.3382\n",
      "BFGSLineSearch:   17[ 25] 20:58:43   -10674.987873       0.2321\n",
      "BFGSLineSearch:   18[ 26] 21:00:36   -10674.988865       0.0415\n",
      "Calculation time: 115.5110196709633 min.\n"
     ]
    }
   ],
   "source": [
    "dyn = QuasiNewton(MoS2OH, trajectory='MoS2OH.traj')\n",
    "t = time.time()\n",
    "dyn.run(fmax=0.05)\n",
    "print('Calculation time: {} min.'.format((time.time() - t) / 60))"
   ]
  },
  {
   "cell_type": "code",
   "execution_count": 141,
   "metadata": {},
   "outputs": [
    {
     "name": "stdout",
     "output_type": "stream",
     "text": [
      "bond S-O:  1.8715196542582317\n",
      "bond O-H:  0.9800302812359026\n"
     ]
    }
   ],
   "source": [
    "print(\"bond S-O: \", MoS2OH.get_distance(1,12))\n",
    "print(\"bond O-H: \", MoS2OH.get_distance(12,13))"
   ]
  },
  {
   "cell_type": "code",
   "execution_count": 142,
   "metadata": {},
   "outputs": [
    {
     "data": {
      "text/plain": [
       "array([[1.58511123, 1.82998009, 9.7934987 ]])"
      ]
     },
     "execution_count": 142,
     "metadata": {},
     "output_type": "execute_result"
    }
   ],
   "source": [
    "# Creating the OH molecule\n",
    "o_molecule = Atoms('O', positions=[(0, 0, 0)])\n",
    "\n",
    "o_molecule.translate(MoS2.positions[atop_index] + (0, 0, 1.872))\n",
    "\n",
    "o_molecule.positions"
   ]
  },
  {
   "cell_type": "code",
   "execution_count": 143,
   "metadata": {},
   "outputs": [
    {
     "data": {
      "text/plain": [
       "array([[ 8.00261267e-04,  9.14688188e-01,  6.35012543e+00],\n",
       "       [ 1.58511123e+00,  1.82998009e+00,  7.94349870e+00],\n",
       "       [ 1.58511128e+00,  1.82997906e+00,  4.75675372e+00],\n",
       "       [-1.58573460e+00,  3.66043743e+00,  6.35012558e+00],\n",
       "       [-2.00093063e-03,  4.57641766e+00,  7.94411429e+00],\n",
       "       [-2.00114573e-03,  4.57641758e+00,  4.75613867e+00],\n",
       "       [ 3.17064002e+00,  9.15897827e-01,  6.35012497e+00],\n",
       "       [ 4.75648140e+00,  1.82987738e+00,  7.94453638e+00],\n",
       "       [ 4.75648244e+00,  1.82987791e+00,  4.75571733e+00],\n",
       "       [ 1.58410661e+00,  3.66164705e+00,  6.35012469e+00],\n",
       "       [ 3.16937385e+00,  4.57630852e+00,  7.94515188e+00],\n",
       "       [ 3.16937409e+00,  4.57630853e+00,  4.75510112e+00],\n",
       "       [ 1.58511123e+00,  1.82998009e+00,  9.79349870e+00]])"
      ]
     },
     "execution_count": 143,
     "metadata": {},
     "output_type": "execute_result"
    }
   ],
   "source": [
    "MoS2O = MoS2 + o_molecule\n",
    "MoS2O.positions"
   ]
  },
  {
   "cell_type": "code",
   "execution_count": 144,
   "metadata": {},
   "outputs": [],
   "source": [
    "input_data = {\n",
    "    'control': {\n",
    "        'restart_mode': 'from_scratch',\n",
    "        'pseudo_dir': './pseudos',\n",
    "        'calculation': 'scf',\n",
    "        'prefix': 'MoS2O'\n",
    "    },\n",
    "    'system': {\n",
    "        'ecutwfc': 60,\n",
    "        'ecutrho': 500,\n",
    "        'occupations':'smearing',\n",
    "        'smearing':'gauss',\n",
    "        'degauss': 0.01\n",
    "    },\n",
    "    'electrons': {\n",
    "        'conv_thr': 1.0e-8, \n",
    "        'mixing_beta': 0.7\n",
    "    },\n",
    "} \n",
    "\n",
    "calc = Espresso(\n",
    "    profile=profile,\n",
    "    pseudopotentials=pseudopotentials,\n",
    "    tstress=True,  # deprecated, put in input_data\n",
    "    tprnfor=True,  # deprecated, put in input_data\n",
    "    input_data=input_data,\n",
    "    kpts=(1,1,1),\n",
    "    koffset=(0,0,0))\n",
    "\n",
    "MoS2O.calc = calc"
   ]
  },
  {
   "cell_type": "code",
   "execution_count": 145,
   "metadata": {},
   "outputs": [
    {
     "name": "stdout",
     "output_type": "stream",
     "text": [
      "                Step[ FC]     Time          Energy          fmax\n",
      "BFGSLineSearch:    0[  0] 21:05:51   -10658.228163       5.8142\n",
      "BFGSLineSearch:    1[  1] 21:07:37   -10659.521952       2.3868\n",
      "BFGSLineSearch:    2[  2] 21:09:34   -10659.764504       1.3492\n",
      "BFGSLineSearch:    3[  4] 21:13:31   -10659.843787       0.4945\n",
      "BFGSLineSearch:    4[  6] 21:17:58   -10659.846823       0.0452\n",
      "Calculation time: 14.035029915968577 min.\n"
     ]
    }
   ],
   "source": [
    "dyn = QuasiNewton(MoS2O, trajectory='MoS2O.traj')\n",
    "t = time.time()\n",
    "dyn.run(fmax=0.05)\n",
    "print('Calculation time: {} min.'.format((time.time() - t) / 60))"
   ]
  },
  {
   "cell_type": "code",
   "execution_count": 146,
   "metadata": {},
   "outputs": [
    {
     "name": "stdout",
     "output_type": "stream",
     "text": [
      "bond S-O:  1.8715196542582317\n"
     ]
    }
   ],
   "source": [
    "print(\"bond S-O: \", MoS2OH.get_distance(1,12))"
   ]
  },
  {
   "cell_type": "code",
   "execution_count": 183,
   "metadata": {},
   "outputs": [
    {
     "data": {
      "text/plain": [
       "array([[ 1.58511123,  1.82998009,  9.8134987 ],\n",
       "       [ 2.33511123,  2.16998009, 10.9134987 ],\n",
       "       [ 1.68511123,  2.07998009, 11.6634987 ]])"
      ]
     },
     "execution_count": 183,
     "metadata": {},
     "output_type": "execute_result"
    }
   ],
   "source": [
    "ooh_molecule = Atoms('OOH', positions=[(0, 0, 0), (0.75, 0.34, 1.10), (0.1, 0.25, 1.85)])\n",
    "\n",
    "ooh_molecule.translate(MoS2.positions[atop_index] + (0, 0, 1.87))\n",
    "\n",
    "ooh_molecule.positions"
   ]
  },
  {
   "cell_type": "code",
   "execution_count": 184,
   "metadata": {},
   "outputs": [
    {
     "data": {
      "text/plain": [
       "array([[ 8.00261267e-04,  9.14688188e-01,  6.35012543e+00],\n",
       "       [ 1.58511123e+00,  1.82998009e+00,  7.94349870e+00],\n",
       "       [ 1.58511128e+00,  1.82997906e+00,  4.75675372e+00],\n",
       "       [-1.58573460e+00,  3.66043743e+00,  6.35012558e+00],\n",
       "       [-2.00093063e-03,  4.57641766e+00,  7.94411429e+00],\n",
       "       [-2.00114573e-03,  4.57641758e+00,  4.75613867e+00],\n",
       "       [ 3.17064002e+00,  9.15897827e-01,  6.35012497e+00],\n",
       "       [ 4.75648140e+00,  1.82987738e+00,  7.94453638e+00],\n",
       "       [ 4.75648244e+00,  1.82987791e+00,  4.75571733e+00],\n",
       "       [ 1.58410661e+00,  3.66164705e+00,  6.35012469e+00],\n",
       "       [ 3.16937385e+00,  4.57630852e+00,  7.94515188e+00],\n",
       "       [ 3.16937409e+00,  4.57630853e+00,  4.75510112e+00],\n",
       "       [ 1.58511123e+00,  1.82998009e+00,  9.81349870e+00],\n",
       "       [ 2.33511123e+00,  2.16998009e+00,  1.09134987e+01],\n",
       "       [ 1.68511123e+00,  2.07998009e+00,  1.16634987e+01]])"
      ]
     },
     "execution_count": 184,
     "metadata": {},
     "output_type": "execute_result"
    }
   ],
   "source": [
    "MoS2OOH = MoS2 + ooh_molecule\n",
    "MoS2OOH.positions"
   ]
  },
  {
   "cell_type": "code",
   "execution_count": 185,
   "metadata": {},
   "outputs": [],
   "source": [
    "input_data = {\n",
    "    'control': {\n",
    "        'restart_mode': 'from_scratch',\n",
    "        'pseudo_dir': './pseudos',\n",
    "        'calculation': 'scf',\n",
    "        'prefix': 'MoS2O'\n",
    "    },\n",
    "    'system': {\n",
    "        'ecutwfc': 60,\n",
    "        'ecutrho': 500,\n",
    "        'occupations':'smearing',\n",
    "        'smearing':'gauss',\n",
    "        'degauss': 0.01\n",
    "    },\n",
    "    'electrons': {\n",
    "        'conv_thr': 1.0e-8, \n",
    "        'mixing_beta': 0.7\n",
    "    },\n",
    "} \n",
    "\n",
    "calc = Espresso(\n",
    "    profile=profile,\n",
    "    pseudopotentials=pseudopotentials,\n",
    "    tstress=True,  # deprecated, put in input_data\n",
    "    tprnfor=True,  # deprecated, put in input_data\n",
    "    input_data=input_data,\n",
    "    kpts=(1,1,1),\n",
    "    koffset=(0,0,0))\n",
    "\n",
    "MoS2OOH.calc = calc"
   ]
  },
  {
   "cell_type": "code",
   "execution_count": 186,
   "metadata": {},
   "outputs": [
    {
     "name": "stdout",
     "output_type": "stream",
     "text": [
      "                Step[ FC]     Time          Energy          fmax\n",
      "BFGSLineSearch:    0[  0] 22:11:05   -11238.547013       3.3458\n",
      "BFGSLineSearch:    1[  2] 22:15:45   -11238.813009       1.2034\n",
      "BFGSLineSearch:    2[  4] 22:20:35   -11238.829583       0.4732\n",
      "BFGSLineSearch:    3[  7] 22:26:16   -11239.029844       1.8830\n",
      "BFGSLineSearch:    4[  8] 22:28:43   -11239.095839       2.5888\n",
      "BFGSLineSearch:    5[ 10] 22:33:07   -11239.477180       3.4810\n",
      "BFGSLineSearch:    6[ 12] 22:37:31   -11239.638044       0.9284\n",
      "BFGSLineSearch:    7[ 13] 22:40:11   -11239.669615       0.4166\n",
      "BFGSLineSearch:    8[ 14] 22:41:58   -11239.700028       0.5096\n",
      "BFGSLineSearch:    9[ 15] 22:44:05   -11239.741502       0.9247\n",
      "BFGSLineSearch:   10[ 16] 22:47:10   -11239.768719       0.6626\n",
      "BFGSLineSearch:   11[ 17] 22:49:33   -11239.782285       0.4813\n",
      "BFGSLineSearch:   12[ 19] 22:54:51   -11239.788258       0.5232\n",
      "BFGSLineSearch:   13[ 20] 22:57:18   -11239.795695       0.3006\n",
      "BFGSLineSearch:   14[ 21] 22:59:51   -11239.800454       0.2501\n",
      "BFGSLineSearch:   15[ 22] 23:02:18   -11239.805636       0.1690\n",
      "BFGSLineSearch:   16[ 23] 23:04:58   -11239.808258       0.1324\n",
      "BFGSLineSearch:   17[ 24] 23:07:29   -11239.809729       0.1005\n",
      "BFGSLineSearch:   18[ 26] 23:12:25   -11239.810426       0.1075\n",
      "BFGSLineSearch:   19[ 28] 23:16:35   -11239.811459       0.0798\n",
      "BFGSLineSearch:   20[ 29] 23:18:37   -11239.811942       0.1426\n",
      "BFGSLineSearch:   21[ 30] 23:20:25   -11239.812841       0.0777\n",
      "BFGSLineSearch:   22[ 33] 23:27:07   -11239.813762       0.0862\n",
      "BFGSLineSearch:   23[ 34] 23:28:50   -11239.814223       0.1360\n",
      "BFGSLineSearch:   24[ 35] 23:30:50   -11239.814546       0.0405\n",
      "Calculation time: 82.101038702329 min.\n"
     ]
    }
   ],
   "source": [
    "dyn = QuasiNewton(MoS2OOH, trajectory='MoS2OOH.traj')\n",
    "t = time.time()\n",
    "dyn.run(fmax=0.05)\n",
    "print('Calculation time: {} min.'.format((time.time() - t) / 60))"
   ]
  },
  {
   "cell_type": "code",
   "execution_count": null,
   "metadata": {},
   "outputs": [],
   "source": [
    "h2_molecule = molecule(\"H2\")\n",
    "h2_molecule.set_cell(MoS2.get_cell())\n",
    "h2_molecule.calc = calc\n",
    "dynH2 = QuasiNewton(h2_molecule, trajectory='H2.traj')\n",
    "t = time.time()\n",
    "dynH2.run(fmax=0.05)\n",
    "print('Calculation time: {} min.'.format((time.time() - t) / 60))\n",
    "e_h2 = h2_molecule.get_potential_energy()\n",
    "print(\"H2 energy: \", e_h2, \" eV\")\n",
    "print(\"H-H bond lenght: \", h2_molecule.get_distance(0,1))"
   ]
  },
  {
   "cell_type": "code",
   "execution_count": null,
   "metadata": {},
   "outputs": [],
   "source": [
    "h2o_molecule = molecule(\"H2O\")\n",
    "h2o_molecule.set_cell(MoS2.get_cell())\n",
    "h2o_molecule.calc = calc\n",
    "dynH2O = QuasiNewton(h2o_molecule, trajectory='H2O.traj')\n",
    "t = time.time()\n",
    "dynH2O.run(fmax=0.05)\n",
    "print('Calculation time: {} min.'.format((time.time() - t) / 60))\n",
    "e_h2o = h2o_molecule.get_potential_energy()\n",
    "print(\"H2O energy: \", e_h2o, \" eV\")\n",
    "print(\"O-H bond lenght: \", h2o_molecule.get_distance(0,1))"
   ]
  },
  {
   "cell_type": "code",
   "execution_count": null,
   "metadata": {},
   "outputs": [],
   "source": [
    "\n",
    "\n",
    "\"\"\"\n",
    "Calculations to get the free energy of the O intermediate adsorbed on the Ni surface\n",
    "\"\"\"\n",
    "o_molecule = Atoms('O', positions=[(0, 0, 0)])\n",
    "slabNi = fcc111(\"Ni\", a=lattice_constant_Ni, size=(2,2,2))\n",
    "p = slabNi.positions[4]\n",
    "o_molecule.translate(p + (0, 0, 1.5))\n",
    "slabO = slabNi + o_molecule\n",
    "slabO.center(vacuum=2.0)\n",
    "constraint = FixAtoms(indices=[0,1,2,3,5,6,7])\n",
    "slabO.set_constraint(constraint)\n",
    "view(slabO)\n",
    "\n",
    "slabO.set_calculator(calculator)\n",
    "dynO = QuasiNewton(slabO, trajectory=\"O_Ni.traj\", )\n",
    "t = time.time()\n",
    "dynO.run(fmax=0.05)\n",
    "print('Calculation time: {} min.'.format((time.time() - t) / 60))\n",
    "\n",
    "e_slabO = slabO.get_potential_energy()\n",
    "print(\"O on Ni(111) energy: \", e_slabO, \" eV\")\n",
    "view(slabO)\n",
    "print(\"bond Ni-O: \", slabO.get_distance(4,8))\n",
    "\n",
    "\n",
    "\"\"\"\n",
    "Calculations to get the free energy of the OOH intermediate adsorbed on the Ni surface\n",
    "\"\"\"\n",
    "ooh_molecule = Atoms('OOH', positions=[(0, 0, 0), (0, 0, 1.4), (0, -0.763, 2.0)])\n",
    "slabNi = fcc111(\"Ni\", a=lattice_constant_Ni, size=(2,2,2))\n",
    "p = slabNi.positions[4]\n",
    "ooh_molecule.translate(p + (0, 0, 1.5))\n",
    "slabOOH = slabNi + ooh_molecule\n",
    "slabOOH.center(vacuum=2.0)\n",
    "constraint = FixAtoms(indices=[0,1,2,3,5,6,7])\n",
    "slabOOH.set_constraint(constraint)\n",
    "view(slabOOH)\n",
    "\n",
    "slabOOH.set_calculator(calculator)\n",
    "dynOOH = QuasiNewton(slabOOH, trajectory=\"OOH_Ni.traj\", )\n",
    "t = time.time()\n",
    "dynOOH.run(fmax=0.05)\n",
    "print('Calculation time: {} min.'.format((time.time() - t) / 60))\n",
    "\n",
    "e_slabO = slabOOH.get_potential_energy()\n",
    "print(\"OOH on Ni(111) energy: \", e_slabO, \" eV\")\n",
    "view(slabOOH)\n",
    "print(\"bond Ni-O: \", slabOOH.get_distance(4,8))\n",
    "\n",
    "\n",
    "\n",
    "\n",
    "\"\"\"\n",
    "Calculations to get the free energy of H2O and H2 needed to calculate the free energies of the reaction\n",
    "\"\"\"\n",
    "\n",
    "calculator2 = GPAW(xc='RPBE', mode=PW(350), h=0.2, occupations=FermiDirac(0.1))\n",
    "\n",
    "\n",
    "h2_molecule = molecule(\"H2\")\n",
    "h2_molecule.set_cell(slab.get_cell())\n",
    "h2_molecule.center(vacuum=2.0)\n",
    "h2_molecule.set_calculator(calculator2)\n",
    "dynH2 = QuasiNewton(h2_molecule, trajectory='H2.traj')\n",
    "t = time.time()\n",
    "dynH2.run(fmax=0.05)\n",
    "print('Calculation time: {} min.'.format((time.time() - t) / 60))\n",
    "e_h2 = h2_molecule.get_potential_energy()\n",
    "print(\"H2 energy: \", e_h2, \" eV\")\n",
    "print(\"H-H bond lenght: \", h2_molecule.get_distance(0,1))"
   ]
  }
 ],
 "metadata": {
  "kernelspec": {
   "display_name": "Python 3",
   "language": "python",
   "name": "python3"
  },
  "language_info": {
   "codemirror_mode": {
    "name": "ipython",
    "version": 3
   },
   "file_extension": ".py",
   "mimetype": "text/x-python",
   "name": "python",
   "nbconvert_exporter": "python",
   "pygments_lexer": "ipython3",
   "version": "3.9.6"
  },
  "orig_nbformat": 4
 },
 "nbformat": 4,
 "nbformat_minor": 2
}
